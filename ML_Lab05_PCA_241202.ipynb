{
 "cells": [
  {
   "cell_type": "markdown",
   "id": "nw-vnCRjh4u1",
   "metadata": {
    "id": "nw-vnCRjh4u1"
   },
   "source": [
    "<font size=48>Machine Learning</font><br>\n",
    "\n",
    "## Lab05 - Dimension Reduction Using Principal Component Analysis (PCA)\n",
    "\n",
    "Objectives:\n",
    "- Learn how to use the scikit-learn's PCA package.\n",
    "- Apply PCA using two popular datasets: Breast Cancer dataset and CIFAR-10.\n",
    "\n",
    "Material adapted from https://www.datacamp.com/tutorial/principal-component-analysis-in-python but I added and modifed quite a bit to it.\n",
    "\n",
    "Version: 2024-11-30\n",
    "\n",
    "This lab is by YP Wong [<yp@ypwong.net>](mailto:yp@ypwong.net).\n"
   ]
  },
  {
   "cell_type": "markdown",
   "id": "eff3eda2",
   "metadata": {
    "id": "eff3eda2"
   },
   "source": [
    "## What is Principal Component Analysis (PCA)\n",
    "\n",
    "- It is **linear dimensionality reduction** technique that can be utilized for extracting information from a high-dimensional space by projecting it into a lower-dimensional sub-space.\n",
    "- It tries to preserve the essential parts that have more variation of the data and remove the non-essential parts with fewer variation.\n",
    "\n",
    "Dimensions are nothing but features that represent the data. For example, A 28 X 28 image has 784 picture elements (pixels) that are the dimensions or features which together represent that image.\n",
    "\n",
    "One important thing to note about PCA is that it is an **Unsupervised** dimensionality reduction technique, you can cluster the similar data points based on the feature correlation between them without any supervision (or labels), and you will learn how to achieve this practically using Python in later sections of this tutorial!\n",
    "\n",
    "**Note**: Features, Dimensions, and Variables are all referring to the same thing. You will find them being used interchangeably.\n",
    "\n",
    "### Where can you apply PCA?\n",
    "\n",
    "- **Data Visualization**: Considering that there are a large number of variables or dimensions along which the data is distributed, visualization can be a challenge and almost impossible. Hence, PCA can do that for you since it projects the data into a lower dimension, thereby allowing you to visualize the data in a 2D or 3D space with a naked eye.\n",
    "\n",
    "- **Speeding Machine Learning (ML) Algorithm**: Since PCA's main idea is dimensionality reduction, you can leverage that to speed up your machine learning algorithm's training and testing time considering your data has a lot of features, and the ML algorithm's learning is too slow.\n",
    "\n",
    "At an abstract level,  you take a dataset having many features, and you simplify that dataset by selecting a few ``Principal Components`` from original features.\n",
    "\n",
    "### What is a Principal Component?\n",
    "\n",
    "Principal components are the key to PCA; they represent what's underneath the hood of your data. In a layman term, when the data is projected into a lower dimension (assume three dimensions) from a higher space, the three dimensions are nothing but the three Principal Components that captures (or holds) most of the variance (information) of your data.\n",
    "\n",
    "Principal components have both direction and magnitude. The direction represents across which *principal axes* the data is mostly spread out or has most variance and the magnitude signifies the amount of variance that Principal Component captures of the data when projected onto that axis. The principal components are a straight line, and the first principal component holds the most variance in the data. Each subsequent principal component is orthogonal to the last and has a lesser variance. In this way, given a set of <i>x</i> correlated variables over <i>y</i> samples you achieve a set of <i>u</i> uncorrelated principal components over the same <i>y</i> samples.\n",
    "\n",
    "The reason you achieve uncorrelated principal components from the original features is that the correlated features contribute to the same principal component, thereby reducing the original data features into uncorrelated principal components; each representing a different set of correlated features with different amounts of variation.\n",
    "\n",
    "Each principal component represents a percentage of total variation captured from the data.\n",
    "\n",
    "In this lab, we will apply PCA on the two use-cases:\n",
    "- ``Data Visualization``\n",
    "- ``Speeding ML algorithm``\n",
    "\n",
    "To accomplish the above two tasks, you will use two famous Breast Cancer (numerical) and CIFAR - 10 (image) dataset.\n"
   ]
  },
  {
   "cell_type": "markdown",
   "id": "BMYQdQ6WlI2Q",
   "metadata": {
    "id": "BMYQdQ6WlI2Q"
   },
   "source": [
    "## Understanding the Data\n",
    "\n",
    "### Breast Cancer\n",
    "\n",
    "The Breast Cancer data set is a real-valued multivariate data that consists of two classes, where each class signifies whether a patient has breast cancer or not. The two categories are: malignant and benign.\n",
    "\n",
    "The malignant class has 212 samples, whereas the benign class has 357 samples.\n",
    "\n",
    "It has 30 features shared across all classes: radius, texture, perimeter, area, smoothness, fractal dimension, etc.\n",
    "\n",
    "You can download the breast cancer dataset from <a href=\"https://archive.ics.uci.edu/ml/datasets/Breast+Cancer+Wisconsin+(Diagnostic)\">here</a>, or rather an easy way is by loading it with the help of the ``sklearn`` library.\n",
    "\n",
    "### CIFAR-10\n",
    "\n",
    "The CIFAR-10 (Canadian Institute For Advanced Research) dataset consists of 60000 images each of 32x32x3 color images having ten classes, with 6000 images per category.\n",
    "\n",
    "The dataset consists of 50000 training images and 10000 test images.\n",
    "\n",
    "The classes in the dataset are airplane, automobile, bird, cat, deer, dog, frog, horse, ship, truck.\n",
    "\n",
    "You can download the CIFAR dataset from <a href=\"https://www.cs.toronto.edu/~kriz/cifar.html\">here</a>, or you can also load it on the fly with the help of a deep learning library like ``Keras``.\n"
   ]
  },
  {
   "cell_type": "markdown",
   "id": "JD17GlFcmTw5",
   "metadata": {
    "id": "JD17GlFcmTw5"
   },
   "source": [
    "## Mount Google Drive"
   ]
  },
  {
   "cell_type": "code",
   "execution_count": 35,
   "id": "HcgnULNKmAtc",
   "metadata": {
    "executionInfo": {
     "elapsed": 335,
     "status": "ok",
     "timestamp": 1733070454451,
     "user": {
      "displayName": "YP Wong MMU",
      "userId": "07689819114152186357"
     },
     "user_tz": -480
    },
    "id": "HcgnULNKmAtc"
   },
   "outputs": [],
   "source": [
    "# Uncomment the below if you need to read data from your Google Drive\n",
    "# Change the notebook_path to where you run the Jupyter Notebook from.\n",
    "\n",
    "# from google.colab import drive\n",
    "# import os\n",
    "\n",
    "# drive.mount('/content/drive')"
   ]
  },
  {
   "cell_type": "code",
   "execution_count": 36,
   "id": "2Ydhu1VypQXv",
   "metadata": {
    "executionInfo": {
     "elapsed": 618,
     "status": "ok",
     "timestamp": 1733070455497,
     "user": {
      "displayName": "YP Wong MMU",
      "userId": "07689819114152186357"
     },
     "user_tz": -480
    },
    "id": "2Ydhu1VypQXv"
   },
   "outputs": [],
   "source": [
    "# notebook_path = r\"/content/drive/MyDrive/Classroom/_ML2425T3(2430)/__ML2425T3(2430)_SHARED__/Labs/Lab05_PCA\"\n",
    "# os.chdir(notebook_path)\n",
    "# !pwd"
   ]
  },
  {
   "cell_type": "markdown",
   "id": "xEREEW07mYle",
   "metadata": {
    "id": "xEREEW07mYle"
   },
   "source": [
    "## Import Libraries"
   ]
  },
  {
   "cell_type": "code",
   "execution_count": 1,
   "id": "UX6AsPAmmjgr",
   "metadata": {
    "executionInfo": {
     "elapsed": 31,
     "status": "ok",
     "timestamp": 1733070455497,
     "user": {
      "displayName": "YP Wong MMU",
      "userId": "07689819114152186357"
     },
     "user_tz": -480
    },
    "id": "UX6AsPAmmjgr"
   },
   "outputs": [],
   "source": [
    "import numpy as np\n",
    "import pandas as pd\n",
    "import matplotlib.pyplot as plt\n",
    "%matplotlib inline"
   ]
  },
  {
   "cell_type": "markdown",
   "id": "5cc00119",
   "metadata": {
    "id": "5cc00119"
   },
   "source": [
    "## Data Exploration - Breast Cancer Dataset"
   ]
  },
  {
   "cell_type": "code",
   "execution_count": 3,
   "id": "65c1ed9f",
   "metadata": {
    "colab": {
     "base_uri": "https://localhost:8080/"
    },
    "executionInfo": {
     "elapsed": 31,
     "status": "ok",
     "timestamp": 1733070455497,
     "user": {
      "displayName": "YP Wong MMU",
      "userId": "07689819114152186357"
     },
     "user_tz": -480
    },
    "id": "65c1ed9f",
    "outputId": "c16e7dab-ad6e-4c95-c522-70fc485d17a2"
   },
   "outputs": [
    {
     "name": "stdout",
     "output_type": "stream",
     "text": [
      "<class 'numpy.ndarray'>\n",
      "<class 'numpy.ndarray'>\n",
      "<class 'numpy.ndarray'>\n",
      "(569, 30)\n",
      "(569,)\n",
      "(30,)\n",
      "[[1.799e+01 1.038e+01 1.228e+02 ... 2.654e-01 4.601e-01 1.189e-01]\n",
      " [2.057e+01 1.777e+01 1.329e+02 ... 1.860e-01 2.750e-01 8.902e-02]\n",
      " [1.969e+01 2.125e+01 1.300e+02 ... 2.430e-01 3.613e-01 8.758e-02]\n",
      " ...\n",
      " [1.660e+01 2.808e+01 1.083e+02 ... 1.418e-01 2.218e-01 7.820e-02]\n",
      " [2.060e+01 2.933e+01 1.401e+02 ... 2.650e-01 4.087e-01 1.240e-01]\n",
      " [7.760e+00 2.454e+01 4.792e+01 ... 0.000e+00 2.871e-01 7.039e-02]]\n",
      "[0 0 0 0 0 0 0 0 0 0 0 0 0 0 0 0 0 0 0 1 1 1 0 0 0 0 0 0 0 0 0 0 0 0 0 0 0\n",
      " 1 0 0 0 0 0 0 0 0 1 0 1 1 1 1 1 0 0 1 0 0 1 1 1 1 0 1 0 0 1 1 1 1 0 1 0 0\n",
      " 1 0 1 0 0 1 1 1 0 0 1 0 0 0 1 1 1 0 1 1 0 0 1 1 1 0 0 1 1 1 1 0 1 1 0 1 1\n",
      " 1 1 1 1 1 1 0 0 0 1 0 0 1 1 1 0 0 1 0 1 0 0 1 0 0 1 1 0 1 1 0 1 1 1 1 0 1\n",
      " 1 1 1 1 1 1 1 1 0 1 1 1 1 0 0 1 0 1 1 0 0 1 1 0 0 1 1 1 1 0 1 1 0 0 0 1 0\n",
      " 1 0 1 1 1 0 1 1 0 0 1 0 0 0 0 1 0 0 0 1 0 1 0 1 1 0 1 0 0 0 0 1 1 0 0 1 1\n",
      " 1 0 1 1 1 1 1 0 0 1 1 0 1 1 0 0 1 0 1 1 1 1 0 1 1 1 1 1 0 1 0 0 0 0 0 0 0\n",
      " 0 0 0 0 0 0 0 1 1 1 1 1 1 0 1 0 1 1 0 1 1 0 1 0 0 1 1 1 1 1 1 1 1 1 1 1 1\n",
      " 1 0 1 1 0 1 0 1 1 1 1 1 1 1 1 1 1 1 1 1 1 0 1 1 1 0 1 0 1 1 1 1 0 0 0 1 1\n",
      " 1 1 0 1 0 1 0 1 1 1 0 1 1 1 1 1 1 1 0 0 0 1 1 1 1 1 1 1 1 1 1 1 0 0 1 0 0\n",
      " 0 1 0 0 1 1 1 1 1 0 1 1 1 1 1 0 1 1 1 0 1 1 0 0 1 1 1 1 1 1 0 1 1 1 1 1 1\n",
      " 1 0 1 1 1 1 1 0 1 1 0 1 1 1 1 1 1 1 1 1 1 1 1 0 1 0 0 1 0 1 1 1 1 1 0 1 1\n",
      " 0 1 0 1 1 0 1 0 1 1 1 1 1 1 1 1 0 0 1 1 1 1 1 1 0 1 1 1 1 1 1 1 1 1 1 0 1\n",
      " 1 1 1 1 1 1 0 1 0 1 1 0 1 1 1 1 1 0 0 1 0 1 0 1 1 1 1 1 0 1 1 0 1 0 1 0 0\n",
      " 1 1 1 0 1 1 1 1 1 1 1 1 1 1 1 0 1 0 0 1 1 1 1 1 1 1 1 1 1 1 1 1 1 1 1 1 1\n",
      " 1 1 1 1 1 1 1 0 0 0 0 0 0 1]\n",
      "['mean radius' 'mean texture' 'mean perimeter' 'mean area'\n",
      " 'mean smoothness' 'mean compactness' 'mean concavity'\n",
      " 'mean concave points' 'mean symmetry' 'mean fractal dimension'\n",
      " 'radius error' 'texture error' 'perimeter error' 'area error'\n",
      " 'smoothness error' 'compactness error' 'concavity error'\n",
      " 'concave points error' 'symmetry error' 'fractal dimension error'\n",
      " 'worst radius' 'worst texture' 'worst perimeter' 'worst area'\n",
      " 'worst smoothness' 'worst compactness' 'worst concavity'\n",
      " 'worst concave points' 'worst symmetry' 'worst fractal dimension']\n"
     ]
    }
   ],
   "source": [
    "from sklearn.datasets import load_breast_cancer\n",
    "\n",
    "dataset = load_breast_cancer()\n",
    "\n",
    "cancer_data          = dataset.data\n",
    "cancer_labels        = dataset.target\n",
    "cancer_feature_names = dataset.feature_names\n",
    "\n",
    "# We will not use the labels since we are doing unsupervised learning\n",
    "#   nevertheless, this is just for us to explore the data\n",
    "print(type(cancer_data))\n",
    "print(type(cancer_labels))\n",
    "print(type(cancer_feature_names))\n",
    "\n",
    "print(cancer_data.shape)\n",
    "print(cancer_labels.shape)\n",
    "print(cancer_feature_names.shape)\n",
    "\n",
    "print(cancer_data)\n",
    "print(cancer_labels)\n",
    "print(cancer_feature_names)"
   ]
  },
  {
   "cell_type": "code",
   "execution_count": 5,
   "id": "74196a46",
   "metadata": {
    "executionInfo": {
     "elapsed": 30,
     "status": "ok",
     "timestamp": 1733070455498,
     "user": {
      "displayName": "YP Wong MMU",
      "userId": "07689819114152186357"
     },
     "user_tz": -480
    },
    "id": "74196a46"
   },
   "outputs": [],
   "source": [
    "cancer_labels = cancer_labels.reshape( (569, 1) )  # flatten the matrix into a vector\n",
    "\n",
    "cancer_df = pd.DataFrame(np.concatenate( [cancer_data, cancer_labels], axis = 1 ) )\n",
    "\n",
    "cancer_df.columns = np.append(cancer_feature_names, 'label')\n",
    "\n",
    "# cancer_df[\"label\"].replace(0, \"Benign\",    inplace = True)   # will not work in future pandas 3.0\n",
    "# cancer_df[\"label\"].replace(1, \"Malignant\", inplace = True)   # will not work in future pandas 3.0\n",
    "cancer_df[\"label\"] = cancer_df[\"label\"].replace(0, \"Benign\")\n",
    "cancer_df[\"label\"] = cancer_df[\"label\"].replace(1, \"Malignant\")"
   ]
  },
  {
   "cell_type": "code",
   "execution_count": 6,
   "id": "JfIfUwfPnQiQ",
   "metadata": {
    "colab": {
     "base_uri": "https://localhost:8080/",
     "height": 290
    },
    "executionInfo": {
     "elapsed": 30,
     "status": "ok",
     "timestamp": 1733070455498,
     "user": {
      "displayName": "YP Wong MMU",
      "userId": "07689819114152186357"
     },
     "user_tz": -480
    },
    "id": "JfIfUwfPnQiQ",
    "outputId": "d6336767-370a-457a-ac80-be3dd9d27d51"
   },
   "outputs": [
    {
     "data": {
      "text/html": [
       "<div>\n",
       "<style scoped>\n",
       "    .dataframe tbody tr th:only-of-type {\n",
       "        vertical-align: middle;\n",
       "    }\n",
       "\n",
       "    .dataframe tbody tr th {\n",
       "        vertical-align: top;\n",
       "    }\n",
       "\n",
       "    .dataframe thead th {\n",
       "        text-align: right;\n",
       "    }\n",
       "</style>\n",
       "<table border=\"1\" class=\"dataframe\">\n",
       "  <thead>\n",
       "    <tr style=\"text-align: right;\">\n",
       "      <th></th>\n",
       "      <th>mean radius</th>\n",
       "      <th>mean texture</th>\n",
       "      <th>mean perimeter</th>\n",
       "      <th>mean area</th>\n",
       "      <th>mean smoothness</th>\n",
       "      <th>mean compactness</th>\n",
       "      <th>mean concavity</th>\n",
       "      <th>mean concave points</th>\n",
       "      <th>mean symmetry</th>\n",
       "      <th>mean fractal dimension</th>\n",
       "      <th>...</th>\n",
       "      <th>worst texture</th>\n",
       "      <th>worst perimeter</th>\n",
       "      <th>worst area</th>\n",
       "      <th>worst smoothness</th>\n",
       "      <th>worst compactness</th>\n",
       "      <th>worst concavity</th>\n",
       "      <th>worst concave points</th>\n",
       "      <th>worst symmetry</th>\n",
       "      <th>worst fractal dimension</th>\n",
       "      <th>label</th>\n",
       "    </tr>\n",
       "  </thead>\n",
       "  <tbody>\n",
       "    <tr>\n",
       "      <th>0</th>\n",
       "      <td>17.99</td>\n",
       "      <td>10.38</td>\n",
       "      <td>122.80</td>\n",
       "      <td>1001.0</td>\n",
       "      <td>0.11840</td>\n",
       "      <td>0.27760</td>\n",
       "      <td>0.3001</td>\n",
       "      <td>0.14710</td>\n",
       "      <td>0.2419</td>\n",
       "      <td>0.07871</td>\n",
       "      <td>...</td>\n",
       "      <td>17.33</td>\n",
       "      <td>184.60</td>\n",
       "      <td>2019.0</td>\n",
       "      <td>0.1622</td>\n",
       "      <td>0.6656</td>\n",
       "      <td>0.7119</td>\n",
       "      <td>0.2654</td>\n",
       "      <td>0.4601</td>\n",
       "      <td>0.11890</td>\n",
       "      <td>Benign</td>\n",
       "    </tr>\n",
       "    <tr>\n",
       "      <th>1</th>\n",
       "      <td>20.57</td>\n",
       "      <td>17.77</td>\n",
       "      <td>132.90</td>\n",
       "      <td>1326.0</td>\n",
       "      <td>0.08474</td>\n",
       "      <td>0.07864</td>\n",
       "      <td>0.0869</td>\n",
       "      <td>0.07017</td>\n",
       "      <td>0.1812</td>\n",
       "      <td>0.05667</td>\n",
       "      <td>...</td>\n",
       "      <td>23.41</td>\n",
       "      <td>158.80</td>\n",
       "      <td>1956.0</td>\n",
       "      <td>0.1238</td>\n",
       "      <td>0.1866</td>\n",
       "      <td>0.2416</td>\n",
       "      <td>0.1860</td>\n",
       "      <td>0.2750</td>\n",
       "      <td>0.08902</td>\n",
       "      <td>Benign</td>\n",
       "    </tr>\n",
       "    <tr>\n",
       "      <th>2</th>\n",
       "      <td>19.69</td>\n",
       "      <td>21.25</td>\n",
       "      <td>130.00</td>\n",
       "      <td>1203.0</td>\n",
       "      <td>0.10960</td>\n",
       "      <td>0.15990</td>\n",
       "      <td>0.1974</td>\n",
       "      <td>0.12790</td>\n",
       "      <td>0.2069</td>\n",
       "      <td>0.05999</td>\n",
       "      <td>...</td>\n",
       "      <td>25.53</td>\n",
       "      <td>152.50</td>\n",
       "      <td>1709.0</td>\n",
       "      <td>0.1444</td>\n",
       "      <td>0.4245</td>\n",
       "      <td>0.4504</td>\n",
       "      <td>0.2430</td>\n",
       "      <td>0.3613</td>\n",
       "      <td>0.08758</td>\n",
       "      <td>Benign</td>\n",
       "    </tr>\n",
       "    <tr>\n",
       "      <th>3</th>\n",
       "      <td>11.42</td>\n",
       "      <td>20.38</td>\n",
       "      <td>77.58</td>\n",
       "      <td>386.1</td>\n",
       "      <td>0.14250</td>\n",
       "      <td>0.28390</td>\n",
       "      <td>0.2414</td>\n",
       "      <td>0.10520</td>\n",
       "      <td>0.2597</td>\n",
       "      <td>0.09744</td>\n",
       "      <td>...</td>\n",
       "      <td>26.50</td>\n",
       "      <td>98.87</td>\n",
       "      <td>567.7</td>\n",
       "      <td>0.2098</td>\n",
       "      <td>0.8663</td>\n",
       "      <td>0.6869</td>\n",
       "      <td>0.2575</td>\n",
       "      <td>0.6638</td>\n",
       "      <td>0.17300</td>\n",
       "      <td>Benign</td>\n",
       "    </tr>\n",
       "    <tr>\n",
       "      <th>4</th>\n",
       "      <td>20.29</td>\n",
       "      <td>14.34</td>\n",
       "      <td>135.10</td>\n",
       "      <td>1297.0</td>\n",
       "      <td>0.10030</td>\n",
       "      <td>0.13280</td>\n",
       "      <td>0.1980</td>\n",
       "      <td>0.10430</td>\n",
       "      <td>0.1809</td>\n",
       "      <td>0.05883</td>\n",
       "      <td>...</td>\n",
       "      <td>16.67</td>\n",
       "      <td>152.20</td>\n",
       "      <td>1575.0</td>\n",
       "      <td>0.1374</td>\n",
       "      <td>0.2050</td>\n",
       "      <td>0.4000</td>\n",
       "      <td>0.1625</td>\n",
       "      <td>0.2364</td>\n",
       "      <td>0.07678</td>\n",
       "      <td>Benign</td>\n",
       "    </tr>\n",
       "  </tbody>\n",
       "</table>\n",
       "<p>5 rows × 31 columns</p>\n",
       "</div>"
      ],
      "text/plain": [
       "   mean radius  mean texture  mean perimeter  mean area  mean smoothness  \\\n",
       "0        17.99         10.38          122.80     1001.0          0.11840   \n",
       "1        20.57         17.77          132.90     1326.0          0.08474   \n",
       "2        19.69         21.25          130.00     1203.0          0.10960   \n",
       "3        11.42         20.38           77.58      386.1          0.14250   \n",
       "4        20.29         14.34          135.10     1297.0          0.10030   \n",
       "\n",
       "   mean compactness  mean concavity  mean concave points  mean symmetry  \\\n",
       "0           0.27760          0.3001              0.14710         0.2419   \n",
       "1           0.07864          0.0869              0.07017         0.1812   \n",
       "2           0.15990          0.1974              0.12790         0.2069   \n",
       "3           0.28390          0.2414              0.10520         0.2597   \n",
       "4           0.13280          0.1980              0.10430         0.1809   \n",
       "\n",
       "   mean fractal dimension  ...  worst texture  worst perimeter  worst area  \\\n",
       "0                 0.07871  ...          17.33           184.60      2019.0   \n",
       "1                 0.05667  ...          23.41           158.80      1956.0   \n",
       "2                 0.05999  ...          25.53           152.50      1709.0   \n",
       "3                 0.09744  ...          26.50            98.87       567.7   \n",
       "4                 0.05883  ...          16.67           152.20      1575.0   \n",
       "\n",
       "   worst smoothness  worst compactness  worst concavity  worst concave points  \\\n",
       "0            0.1622             0.6656           0.7119                0.2654   \n",
       "1            0.1238             0.1866           0.2416                0.1860   \n",
       "2            0.1444             0.4245           0.4504                0.2430   \n",
       "3            0.2098             0.8663           0.6869                0.2575   \n",
       "4            0.1374             0.2050           0.4000                0.1625   \n",
       "\n",
       "   worst symmetry  worst fractal dimension   label  \n",
       "0          0.4601                  0.11890  Benign  \n",
       "1          0.2750                  0.08902  Benign  \n",
       "2          0.3613                  0.08758  Benign  \n",
       "3          0.6638                  0.17300  Benign  \n",
       "4          0.2364                  0.07678  Benign  \n",
       "\n",
       "[5 rows x 31 columns]"
      ]
     },
     "execution_count": 6,
     "metadata": {},
     "output_type": "execute_result"
    }
   ],
   "source": [
    "cancer_df.head()"
   ]
  },
  {
   "cell_type": "code",
   "execution_count": 10,
   "id": "tnvIf8ujnQTn",
   "metadata": {
    "colab": {
     "base_uri": "https://localhost:8080/",
     "height": 290
    },
    "executionInfo": {
     "elapsed": 28,
     "status": "ok",
     "timestamp": 1733070455498,
     "user": {
      "displayName": "YP Wong MMU",
      "userId": "07689819114152186357"
     },
     "user_tz": -480
    },
    "id": "tnvIf8ujnQTn",
    "outputId": "85f28cf5-a06e-4911-a99d-7926a819bc83"
   },
   "outputs": [
    {
     "data": {
      "text/html": [
       "<div>\n",
       "<style scoped>\n",
       "    .dataframe tbody tr th:only-of-type {\n",
       "        vertical-align: middle;\n",
       "    }\n",
       "\n",
       "    .dataframe tbody tr th {\n",
       "        vertical-align: top;\n",
       "    }\n",
       "\n",
       "    .dataframe thead th {\n",
       "        text-align: right;\n",
       "    }\n",
       "</style>\n",
       "<table border=\"1\" class=\"dataframe\">\n",
       "  <thead>\n",
       "    <tr style=\"text-align: right;\">\n",
       "      <th></th>\n",
       "      <th>mean radius</th>\n",
       "      <th>mean texture</th>\n",
       "      <th>mean perimeter</th>\n",
       "      <th>mean area</th>\n",
       "      <th>mean smoothness</th>\n",
       "      <th>mean compactness</th>\n",
       "      <th>mean concavity</th>\n",
       "      <th>mean concave points</th>\n",
       "      <th>mean symmetry</th>\n",
       "      <th>mean fractal dimension</th>\n",
       "      <th>...</th>\n",
       "      <th>worst texture</th>\n",
       "      <th>worst perimeter</th>\n",
       "      <th>worst area</th>\n",
       "      <th>worst smoothness</th>\n",
       "      <th>worst compactness</th>\n",
       "      <th>worst concavity</th>\n",
       "      <th>worst concave points</th>\n",
       "      <th>worst symmetry</th>\n",
       "      <th>worst fractal dimension</th>\n",
       "      <th>label</th>\n",
       "    </tr>\n",
       "  </thead>\n",
       "  <tbody>\n",
       "    <tr>\n",
       "      <th>564</th>\n",
       "      <td>21.56</td>\n",
       "      <td>22.39</td>\n",
       "      <td>142.00</td>\n",
       "      <td>1479.0</td>\n",
       "      <td>0.11100</td>\n",
       "      <td>0.11590</td>\n",
       "      <td>0.24390</td>\n",
       "      <td>0.13890</td>\n",
       "      <td>0.1726</td>\n",
       "      <td>0.05623</td>\n",
       "      <td>...</td>\n",
       "      <td>26.40</td>\n",
       "      <td>166.10</td>\n",
       "      <td>2027.0</td>\n",
       "      <td>0.14100</td>\n",
       "      <td>0.21130</td>\n",
       "      <td>0.4107</td>\n",
       "      <td>0.2216</td>\n",
       "      <td>0.2060</td>\n",
       "      <td>0.07115</td>\n",
       "      <td>Benign</td>\n",
       "    </tr>\n",
       "    <tr>\n",
       "      <th>565</th>\n",
       "      <td>20.13</td>\n",
       "      <td>28.25</td>\n",
       "      <td>131.20</td>\n",
       "      <td>1261.0</td>\n",
       "      <td>0.09780</td>\n",
       "      <td>0.10340</td>\n",
       "      <td>0.14400</td>\n",
       "      <td>0.09791</td>\n",
       "      <td>0.1752</td>\n",
       "      <td>0.05533</td>\n",
       "      <td>...</td>\n",
       "      <td>38.25</td>\n",
       "      <td>155.00</td>\n",
       "      <td>1731.0</td>\n",
       "      <td>0.11660</td>\n",
       "      <td>0.19220</td>\n",
       "      <td>0.3215</td>\n",
       "      <td>0.1628</td>\n",
       "      <td>0.2572</td>\n",
       "      <td>0.06637</td>\n",
       "      <td>Benign</td>\n",
       "    </tr>\n",
       "    <tr>\n",
       "      <th>566</th>\n",
       "      <td>16.60</td>\n",
       "      <td>28.08</td>\n",
       "      <td>108.30</td>\n",
       "      <td>858.1</td>\n",
       "      <td>0.08455</td>\n",
       "      <td>0.10230</td>\n",
       "      <td>0.09251</td>\n",
       "      <td>0.05302</td>\n",
       "      <td>0.1590</td>\n",
       "      <td>0.05648</td>\n",
       "      <td>...</td>\n",
       "      <td>34.12</td>\n",
       "      <td>126.70</td>\n",
       "      <td>1124.0</td>\n",
       "      <td>0.11390</td>\n",
       "      <td>0.30940</td>\n",
       "      <td>0.3403</td>\n",
       "      <td>0.1418</td>\n",
       "      <td>0.2218</td>\n",
       "      <td>0.07820</td>\n",
       "      <td>Benign</td>\n",
       "    </tr>\n",
       "    <tr>\n",
       "      <th>567</th>\n",
       "      <td>20.60</td>\n",
       "      <td>29.33</td>\n",
       "      <td>140.10</td>\n",
       "      <td>1265.0</td>\n",
       "      <td>0.11780</td>\n",
       "      <td>0.27700</td>\n",
       "      <td>0.35140</td>\n",
       "      <td>0.15200</td>\n",
       "      <td>0.2397</td>\n",
       "      <td>0.07016</td>\n",
       "      <td>...</td>\n",
       "      <td>39.42</td>\n",
       "      <td>184.60</td>\n",
       "      <td>1821.0</td>\n",
       "      <td>0.16500</td>\n",
       "      <td>0.86810</td>\n",
       "      <td>0.9387</td>\n",
       "      <td>0.2650</td>\n",
       "      <td>0.4087</td>\n",
       "      <td>0.12400</td>\n",
       "      <td>Benign</td>\n",
       "    </tr>\n",
       "    <tr>\n",
       "      <th>568</th>\n",
       "      <td>7.76</td>\n",
       "      <td>24.54</td>\n",
       "      <td>47.92</td>\n",
       "      <td>181.0</td>\n",
       "      <td>0.05263</td>\n",
       "      <td>0.04362</td>\n",
       "      <td>0.00000</td>\n",
       "      <td>0.00000</td>\n",
       "      <td>0.1587</td>\n",
       "      <td>0.05884</td>\n",
       "      <td>...</td>\n",
       "      <td>30.37</td>\n",
       "      <td>59.16</td>\n",
       "      <td>268.6</td>\n",
       "      <td>0.08996</td>\n",
       "      <td>0.06444</td>\n",
       "      <td>0.0000</td>\n",
       "      <td>0.0000</td>\n",
       "      <td>0.2871</td>\n",
       "      <td>0.07039</td>\n",
       "      <td>Malignant</td>\n",
       "    </tr>\n",
       "  </tbody>\n",
       "</table>\n",
       "<p>5 rows × 31 columns</p>\n",
       "</div>"
      ],
      "text/plain": [
       "     mean radius  mean texture  mean perimeter  mean area  mean smoothness  \\\n",
       "564        21.56         22.39          142.00     1479.0          0.11100   \n",
       "565        20.13         28.25          131.20     1261.0          0.09780   \n",
       "566        16.60         28.08          108.30      858.1          0.08455   \n",
       "567        20.60         29.33          140.10     1265.0          0.11780   \n",
       "568         7.76         24.54           47.92      181.0          0.05263   \n",
       "\n",
       "     mean compactness  mean concavity  mean concave points  mean symmetry  \\\n",
       "564           0.11590         0.24390              0.13890         0.1726   \n",
       "565           0.10340         0.14400              0.09791         0.1752   \n",
       "566           0.10230         0.09251              0.05302         0.1590   \n",
       "567           0.27700         0.35140              0.15200         0.2397   \n",
       "568           0.04362         0.00000              0.00000         0.1587   \n",
       "\n",
       "     mean fractal dimension  ...  worst texture  worst perimeter  worst area  \\\n",
       "564                 0.05623  ...          26.40           166.10      2027.0   \n",
       "565                 0.05533  ...          38.25           155.00      1731.0   \n",
       "566                 0.05648  ...          34.12           126.70      1124.0   \n",
       "567                 0.07016  ...          39.42           184.60      1821.0   \n",
       "568                 0.05884  ...          30.37            59.16       268.6   \n",
       "\n",
       "     worst smoothness  worst compactness  worst concavity  \\\n",
       "564           0.14100            0.21130           0.4107   \n",
       "565           0.11660            0.19220           0.3215   \n",
       "566           0.11390            0.30940           0.3403   \n",
       "567           0.16500            0.86810           0.9387   \n",
       "568           0.08996            0.06444           0.0000   \n",
       "\n",
       "     worst concave points  worst symmetry  worst fractal dimension      label  \n",
       "564                0.2216          0.2060                  0.07115     Benign  \n",
       "565                0.1628          0.2572                  0.06637     Benign  \n",
       "566                0.1418          0.2218                  0.07820     Benign  \n",
       "567                0.2650          0.4087                  0.12400     Benign  \n",
       "568                0.0000          0.2871                  0.07039  Malignant  \n",
       "\n",
       "[5 rows x 31 columns]"
      ]
     },
     "execution_count": 10,
     "metadata": {},
     "output_type": "execute_result"
    }
   ],
   "source": [
    "cancer_df.tail()"
   ]
  },
  {
   "cell_type": "markdown",
   "id": "csXhloiKoiUE",
   "metadata": {
    "id": "csXhloiKoiUE"
   },
   "source": [
    "## Data Visualization using PCA - Breast Cancer Dataset"
   ]
  },
  {
   "cell_type": "markdown",
   "id": "7KK1xfVbo6lY",
   "metadata": {
    "id": "7KK1xfVbo6lY"
   },
   "source": [
    "### Preprocessing - Data Normalization"
   ]
  },
  {
   "cell_type": "code",
   "execution_count": 14,
   "id": "962f925c",
   "metadata": {
    "colab": {
     "base_uri": "https://localhost:8080/"
    },
    "executionInfo": {
     "elapsed": 26,
     "status": "ok",
     "timestamp": 1733070455498,
     "user": {
      "displayName": "YP Wong MMU",
      "userId": "07689819114152186357"
     },
     "user_tz": -480
    },
    "id": "962f925c",
    "outputId": "a5bf7831-54d4-418c-f3f4-2a81146f0e6d"
   },
   "outputs": [
    {
     "name": "stdout",
     "output_type": "stream",
     "text": [
      "(569, 30)\n",
      "np.mean(X) = -6.826538293184326e-17\n",
      "np.std(X) = 1.0\n"
     ]
    }
   ],
   "source": [
    "from sklearn.preprocessing import StandardScaler\n",
    "\n",
    "X = cancer_df.loc[:, cancer_feature_names].values\n",
    "X = StandardScaler().fit_transform(X) # normalizing the features\n",
    "\n",
    "print(X.shape)\n",
    "\n",
    "print(\"np.mean(X) =\", np.mean(X))\n",
    "print(\"np.std(X) =\", np.std(X))\n",
    "\n",
    "feature_columns = ['feature' + str(i) for i in range(X.shape[1])]\n",
    "\n",
    "X_normalized = pd.DataFrame(X, columns = feature_columns)"
   ]
  },
  {
   "cell_type": "code",
   "execution_count": 15,
   "id": "xTzRBSdXpazf",
   "metadata": {
    "colab": {
     "base_uri": "https://localhost:8080/",
     "height": 255
    },
    "executionInfo": {
     "elapsed": 19,
     "status": "ok",
     "timestamp": 1733070455498,
     "user": {
      "displayName": "YP Wong MMU",
      "userId": "07689819114152186357"
     },
     "user_tz": -480
    },
    "id": "xTzRBSdXpazf",
    "outputId": "516047fb-41a4-4dfe-e419-d8255b3713a3"
   },
   "outputs": [
    {
     "data": {
      "text/html": [
       "<div>\n",
       "<style scoped>\n",
       "    .dataframe tbody tr th:only-of-type {\n",
       "        vertical-align: middle;\n",
       "    }\n",
       "\n",
       "    .dataframe tbody tr th {\n",
       "        vertical-align: top;\n",
       "    }\n",
       "\n",
       "    .dataframe thead th {\n",
       "        text-align: right;\n",
       "    }\n",
       "</style>\n",
       "<table border=\"1\" class=\"dataframe\">\n",
       "  <thead>\n",
       "    <tr style=\"text-align: right;\">\n",
       "      <th></th>\n",
       "      <th>feature0</th>\n",
       "      <th>feature1</th>\n",
       "      <th>feature2</th>\n",
       "      <th>feature3</th>\n",
       "      <th>feature4</th>\n",
       "      <th>feature5</th>\n",
       "      <th>feature6</th>\n",
       "      <th>feature7</th>\n",
       "      <th>feature8</th>\n",
       "      <th>feature9</th>\n",
       "      <th>...</th>\n",
       "      <th>feature20</th>\n",
       "      <th>feature21</th>\n",
       "      <th>feature22</th>\n",
       "      <th>feature23</th>\n",
       "      <th>feature24</th>\n",
       "      <th>feature25</th>\n",
       "      <th>feature26</th>\n",
       "      <th>feature27</th>\n",
       "      <th>feature28</th>\n",
       "      <th>feature29</th>\n",
       "    </tr>\n",
       "  </thead>\n",
       "  <tbody>\n",
       "    <tr>\n",
       "      <th>564</th>\n",
       "      <td>2.110995</td>\n",
       "      <td>0.721473</td>\n",
       "      <td>2.060786</td>\n",
       "      <td>2.343856</td>\n",
       "      <td>1.041842</td>\n",
       "      <td>0.219060</td>\n",
       "      <td>1.947285</td>\n",
       "      <td>2.320965</td>\n",
       "      <td>-0.312589</td>\n",
       "      <td>-0.931027</td>\n",
       "      <td>...</td>\n",
       "      <td>1.901185</td>\n",
       "      <td>0.117700</td>\n",
       "      <td>1.752563</td>\n",
       "      <td>2.015301</td>\n",
       "      <td>0.378365</td>\n",
       "      <td>-0.273318</td>\n",
       "      <td>0.664512</td>\n",
       "      <td>1.629151</td>\n",
       "      <td>-1.360158</td>\n",
       "      <td>-0.709091</td>\n",
       "    </tr>\n",
       "    <tr>\n",
       "      <th>565</th>\n",
       "      <td>1.704854</td>\n",
       "      <td>2.085134</td>\n",
       "      <td>1.615931</td>\n",
       "      <td>1.723842</td>\n",
       "      <td>0.102458</td>\n",
       "      <td>-0.017833</td>\n",
       "      <td>0.693043</td>\n",
       "      <td>1.263669</td>\n",
       "      <td>-0.217664</td>\n",
       "      <td>-1.058611</td>\n",
       "      <td>...</td>\n",
       "      <td>1.536720</td>\n",
       "      <td>2.047399</td>\n",
       "      <td>1.421940</td>\n",
       "      <td>1.494959</td>\n",
       "      <td>-0.691230</td>\n",
       "      <td>-0.394820</td>\n",
       "      <td>0.236573</td>\n",
       "      <td>0.733827</td>\n",
       "      <td>-0.531855</td>\n",
       "      <td>-0.973978</td>\n",
       "    </tr>\n",
       "    <tr>\n",
       "      <th>566</th>\n",
       "      <td>0.702284</td>\n",
       "      <td>2.045574</td>\n",
       "      <td>0.672676</td>\n",
       "      <td>0.577953</td>\n",
       "      <td>-0.840484</td>\n",
       "      <td>-0.038680</td>\n",
       "      <td>0.046588</td>\n",
       "      <td>0.105777</td>\n",
       "      <td>-0.809117</td>\n",
       "      <td>-0.895587</td>\n",
       "      <td>...</td>\n",
       "      <td>0.561361</td>\n",
       "      <td>1.374854</td>\n",
       "      <td>0.579001</td>\n",
       "      <td>0.427906</td>\n",
       "      <td>-0.809587</td>\n",
       "      <td>0.350735</td>\n",
       "      <td>0.326767</td>\n",
       "      <td>0.414069</td>\n",
       "      <td>-1.104549</td>\n",
       "      <td>-0.318409</td>\n",
       "    </tr>\n",
       "    <tr>\n",
       "      <th>567</th>\n",
       "      <td>1.838341</td>\n",
       "      <td>2.336457</td>\n",
       "      <td>1.982524</td>\n",
       "      <td>1.735218</td>\n",
       "      <td>1.525767</td>\n",
       "      <td>3.272144</td>\n",
       "      <td>3.296944</td>\n",
       "      <td>2.658866</td>\n",
       "      <td>2.137194</td>\n",
       "      <td>1.043695</td>\n",
       "      <td>...</td>\n",
       "      <td>1.961239</td>\n",
       "      <td>2.237926</td>\n",
       "      <td>2.303601</td>\n",
       "      <td>1.653171</td>\n",
       "      <td>1.430427</td>\n",
       "      <td>3.904848</td>\n",
       "      <td>3.197605</td>\n",
       "      <td>2.289985</td>\n",
       "      <td>1.919083</td>\n",
       "      <td>2.219635</td>\n",
       "    </tr>\n",
       "    <tr>\n",
       "      <th>568</th>\n",
       "      <td>-1.808401</td>\n",
       "      <td>1.221792</td>\n",
       "      <td>-1.814389</td>\n",
       "      <td>-1.347789</td>\n",
       "      <td>-3.112085</td>\n",
       "      <td>-1.150752</td>\n",
       "      <td>-1.114873</td>\n",
       "      <td>-1.261820</td>\n",
       "      <td>-0.820070</td>\n",
       "      <td>-0.561032</td>\n",
       "      <td>...</td>\n",
       "      <td>-1.410893</td>\n",
       "      <td>0.764190</td>\n",
       "      <td>-1.432735</td>\n",
       "      <td>-1.075813</td>\n",
       "      <td>-1.859019</td>\n",
       "      <td>-1.207552</td>\n",
       "      <td>-1.305831</td>\n",
       "      <td>-1.745063</td>\n",
       "      <td>-0.048138</td>\n",
       "      <td>-0.751207</td>\n",
       "    </tr>\n",
       "  </tbody>\n",
       "</table>\n",
       "<p>5 rows × 30 columns</p>\n",
       "</div>"
      ],
      "text/plain": [
       "     feature0  feature1  feature2  feature3  feature4  feature5  feature6  \\\n",
       "564  2.110995  0.721473  2.060786  2.343856  1.041842  0.219060  1.947285   \n",
       "565  1.704854  2.085134  1.615931  1.723842  0.102458 -0.017833  0.693043   \n",
       "566  0.702284  2.045574  0.672676  0.577953 -0.840484 -0.038680  0.046588   \n",
       "567  1.838341  2.336457  1.982524  1.735218  1.525767  3.272144  3.296944   \n",
       "568 -1.808401  1.221792 -1.814389 -1.347789 -3.112085 -1.150752 -1.114873   \n",
       "\n",
       "     feature7  feature8  feature9  ...  feature20  feature21  feature22  \\\n",
       "564  2.320965 -0.312589 -0.931027  ...   1.901185   0.117700   1.752563   \n",
       "565  1.263669 -0.217664 -1.058611  ...   1.536720   2.047399   1.421940   \n",
       "566  0.105777 -0.809117 -0.895587  ...   0.561361   1.374854   0.579001   \n",
       "567  2.658866  2.137194  1.043695  ...   1.961239   2.237926   2.303601   \n",
       "568 -1.261820 -0.820070 -0.561032  ...  -1.410893   0.764190  -1.432735   \n",
       "\n",
       "     feature23  feature24  feature25  feature26  feature27  feature28  \\\n",
       "564   2.015301   0.378365  -0.273318   0.664512   1.629151  -1.360158   \n",
       "565   1.494959  -0.691230  -0.394820   0.236573   0.733827  -0.531855   \n",
       "566   0.427906  -0.809587   0.350735   0.326767   0.414069  -1.104549   \n",
       "567   1.653171   1.430427   3.904848   3.197605   2.289985   1.919083   \n",
       "568  -1.075813  -1.859019  -1.207552  -1.305831  -1.745063  -0.048138   \n",
       "\n",
       "     feature29  \n",
       "564  -0.709091  \n",
       "565  -0.973978  \n",
       "566  -0.318409  \n",
       "567   2.219635  \n",
       "568  -0.751207  \n",
       "\n",
       "[5 rows x 30 columns]"
      ]
     },
     "execution_count": 15,
     "metadata": {},
     "output_type": "execute_result"
    }
   ],
   "source": [
    "X_normalized.tail()"
   ]
  },
  {
   "cell_type": "code",
   "execution_count": 17,
   "id": "64f00afc",
   "metadata": {
    "colab": {
     "base_uri": "https://localhost:8080/",
     "height": 224
    },
    "executionInfo": {
     "elapsed": 324,
     "status": "ok",
     "timestamp": 1733070455805,
     "user": {
      "displayName": "YP Wong MMU",
      "userId": "07689819114152186357"
     },
     "user_tz": -480
    },
    "id": "64f00afc",
    "outputId": "c9c14f0c-b684-4c8f-b33d-53e7b1815f60"
   },
   "outputs": [
    {
     "name": "stdout",
     "output_type": "stream",
     "text": [
      "Explained variation per principal component: [0.44272026 0.18971182]\n"
     ]
    },
    {
     "data": {
      "text/html": [
       "<div>\n",
       "<style scoped>\n",
       "    .dataframe tbody tr th:only-of-type {\n",
       "        vertical-align: middle;\n",
       "    }\n",
       "\n",
       "    .dataframe tbody tr th {\n",
       "        vertical-align: top;\n",
       "    }\n",
       "\n",
       "    .dataframe thead th {\n",
       "        text-align: right;\n",
       "    }\n",
       "</style>\n",
       "<table border=\"1\" class=\"dataframe\">\n",
       "  <thead>\n",
       "    <tr style=\"text-align: right;\">\n",
       "      <th></th>\n",
       "      <th>principal component 1</th>\n",
       "      <th>principal component 2</th>\n",
       "    </tr>\n",
       "  </thead>\n",
       "  <tbody>\n",
       "    <tr>\n",
       "      <th>564</th>\n",
       "      <td>6.439315</td>\n",
       "      <td>-3.576817</td>\n",
       "    </tr>\n",
       "    <tr>\n",
       "      <th>565</th>\n",
       "      <td>3.793382</td>\n",
       "      <td>-3.584048</td>\n",
       "    </tr>\n",
       "    <tr>\n",
       "      <th>566</th>\n",
       "      <td>1.256179</td>\n",
       "      <td>-1.902297</td>\n",
       "    </tr>\n",
       "    <tr>\n",
       "      <th>567</th>\n",
       "      <td>10.374794</td>\n",
       "      <td>1.672010</td>\n",
       "    </tr>\n",
       "    <tr>\n",
       "      <th>568</th>\n",
       "      <td>-5.475243</td>\n",
       "      <td>-0.670637</td>\n",
       "    </tr>\n",
       "  </tbody>\n",
       "</table>\n",
       "</div>"
      ],
      "text/plain": [
       "     principal component 1  principal component 2\n",
       "564               6.439315              -3.576817\n",
       "565               3.793382              -3.584048\n",
       "566               1.256179              -1.902297\n",
       "567              10.374794               1.672010\n",
       "568              -5.475243              -0.670637"
      ]
     },
     "execution_count": 17,
     "metadata": {},
     "output_type": "execute_result"
    }
   ],
   "source": [
    "from sklearn.decomposition import PCA\n",
    "\n",
    "cancer_pca = PCA(n_components = 2)\n",
    "cancer_principal_components = cancer_pca.fit_transform(X)\n",
    "\n",
    "cancer_pca_df = pd.DataFrame(data = cancer_principal_components,\n",
    "                             columns = [\"principal component 1\", \"principal component 2\"])\n",
    "\n",
    "print('Explained variation per principal component: {}'.format(cancer_pca.explained_variance_ratio_))\n",
    "\n",
    "cancer_pca_df.tail()"
   ]
  },
  {
   "cell_type": "code",
   "execution_count": 19,
   "id": "0bf73fa5",
   "metadata": {
    "colab": {
     "base_uri": "https://localhost:8080/",
     "height": 916
    },
    "executionInfo": {
     "elapsed": 923,
     "status": "ok",
     "timestamp": 1733070456724,
     "user": {
      "displayName": "YP Wong MMU",
      "userId": "07689819114152186357"
     },
     "user_tz": -480
    },
    "id": "0bf73fa5",
    "outputId": "acd1b8c2-d907-454a-f8f4-07e68e8dbbb7"
   },
   "outputs": [
    {
     "data": {
      "text/plain": [
       "<Figure size 640x480 with 0 Axes>"
      ]
     },
     "metadata": {},
     "output_type": "display_data"
    },
    {
     "data": {
      "image/png": "[encoded data removed]",
      "text/plain": [
       "<Figure size 1000x1000 with 1 Axes>"
      ]
     },
     "metadata": {},
     "output_type": "display_data"
    }
   ],
   "source": [
    "plt.figure()\n",
    "plt.figure(figsize = (10,10))\n",
    "\n",
    "plt.xticks(fontsize = 12)\n",
    "plt.yticks(fontsize = 14)\n",
    "plt.xlabel(\"principal component 1\",fontsize = 20)\n",
    "plt.ylabel(\"principal component 2\",fontsize = 20)\n",
    "plt.title(\"Principal Component Analysis of Breast Cancer Dataset\",fontsize = 20)\n",
    "\n",
    "targets = ['Benign', 'Malignant']\n",
    "colors = ['r', 'b']\n",
    "\n",
    "for target, color in zip(targets, colors):\n",
    "    indices_to_keep = cancer_df[\"label\"] == target\n",
    "    plt.scatter(cancer_pca_df.loc[indices_to_keep, 'principal component 1'],\n",
    "                cancer_pca_df.loc[indices_to_keep, 'principal component 2'],\n",
    "                c = color, s = 30)\n",
    "\n",
    "plt.legend(targets,prop = {'size': 15});"
   ]
  },
  {
   "cell_type": "code",
   "execution_count": 79,
   "id": "2c4e9d34-b0e0-4b05-9298-aa45a55954fa",
   "metadata": {},
   "outputs": [
    {
     "data": {
      "image/png": "[encoded data removed]",
      "text/plain": [
       "<Figure size 800x500 with 1 Axes>"
      ]
     },
     "metadata": {},
     "output_type": "display_data"
    }
   ],
   "source": [
    "plt.figure(figsize=(8, 5))\n",
    "plt.bar(range(1, len(cancer_pca.explained_variance_ratio_) + 1), cancer_pca.explained_variance_ratio_)\n",
    "plt.ylabel('Explained Variance')\n",
    "plt.xlabel('Components')\n",
    "plt.title('Explained Variance by Components')\n",
    "plt.show()"
   ]
  },
  {
   "cell_type": "markdown",
   "id": "9097de1c",
   "metadata": {
    "id": "9097de1c"
   },
   "source": [
    "## Data Exploration - CIFAR-10\n",
    "\n",
    "Reference: https://www.cs.toronto.edu/~kriz/cifar.html"
   ]
  },
  {
   "cell_type": "code",
   "execution_count": 21,
   "id": "0c8f1f81",
   "metadata": {
    "colab": {
     "base_uri": "https://localhost:8080/"
    },
    "executionInfo": {
     "elapsed": 1182,
     "status": "ok",
     "timestamp": 1733070457902,
     "user": {
      "displayName": "YP Wong MMU",
      "userId": "07689819114152186357"
     },
     "user_tz": -480
    },
    "id": "0c8f1f81",
    "outputId": "42667961-d696-4bf7-c547-dcbe7822561e"
   },
   "outputs": [
    {
     "name": "stdout",
     "output_type": "stream",
     "text": [
      "Downloading data from https://www.cs.toronto.edu/~kriz/cifar-10-python.tar.gz\n",
      "\u001b[1m170498071/170498071\u001b[0m \u001b[32m━━━━━━━━━━━━━━━━━━━━\u001b[0m\u001b[37m\u001b[0m \u001b[1m15s\u001b[0m 0us/step\n",
      "X_train.shape = (50000, 32, 32, 3)\n",
      "X_test.shape = (10000, 32, 32, 3)\n",
      "y_train.shape = (50000, 1)\n",
      "y_test.shape = (10000, 1)\n",
      "\n",
      "X_train.shape = (800, 32, 32, 3)\n",
      "X_test.shape = (200, 32, 32, 3)\n",
      "y_train.shape = (800, 1)\n",
      "y_test.shape = (200, 1)\n"
     ]
    }
   ],
   "source": [
    "from keras.datasets import cifar10\n",
    "\n",
    "(X_train, y_train), (X_test, y_test) = cifar10.load_data()\n",
    "\n",
    "print(\"X_train.shape =\", X_train.shape)\n",
    "print(\"X_test.shape =\",  X_test.shape)\n",
    "\n",
    "print(\"y_train.shape =\", y_train.shape)\n",
    "print(\"y_test.shape =\", y_test.shape)\n",
    "\n",
    "# Note: We are taking only a small subset of the data\n",
    "(X_train, y_train), (X_test, y_test) = (X_train[:800], y_train[:800]),  \\\n",
    "                                       (X_test[:200],  y_test[:200])\n",
    "\n",
    "print()\n",
    "print(\"X_train.shape =\", X_train.shape)\n",
    "print(\"X_test.shape =\",  X_test.shape)\n",
    "\n",
    "print(\"y_train.shape =\", y_train.shape)\n",
    "print(\"y_test.shape =\", y_test.shape)"
   ]
  },
  {
   "cell_type": "markdown",
   "id": "b2b1e28a",
   "metadata": {
    "id": "b2b1e28a"
   },
   "source": [
    "Let's also find out the total number of labels and the various kinds of classes the data has.\n"
   ]
  },
  {
   "cell_type": "code",
   "execution_count": 24,
   "id": "4b84eb9f",
   "metadata": {
    "colab": {
     "base_uri": "https://localhost:8080/"
    },
    "executionInfo": {
     "elapsed": 5,
     "status": "ok",
     "timestamp": 1733070457902,
     "user": {
      "displayName": "YP Wong MMU",
      "userId": "07689819114152186357"
     },
     "user_tz": -480
    },
    "id": "4b84eb9f",
    "outputId": "bfbd1ece-c49c-4031-b605-8acf8a7ee27d"
   },
   "outputs": [
    {
     "name": "stdout",
     "output_type": "stream",
     "text": [
      "Total number of outputs :  10\n",
      "Output classes :  [0 1 2 3 4 5 6 7 8 9]\n"
     ]
    }
   ],
   "source": [
    "# Find the unique numbers from the train labels\n",
    "classes = np.unique(y_train)\n",
    "n_classes = len(classes)\n",
    "\n",
    "print('Total number of outputs : ', n_classes)\n",
    "print('Output classes : ', classes)"
   ]
  },
  {
   "cell_type": "code",
   "execution_count": 25,
   "id": "ee0caec0",
   "metadata": {
    "executionInfo": {
     "elapsed": 5,
     "status": "ok",
     "timestamp": 1733070457902,
     "user": {
      "displayName": "YP Wong MMU",
      "userId": "07689819114152186357"
     },
     "user_tz": -480
    },
    "id": "ee0caec0"
   },
   "outputs": [],
   "source": [
    "label_dict = {\n",
    "              0: 'airplane', 1: 'automobile', 2: 'bird',  3: 'cat',  4: 'deer',\n",
    "              5: 'dog',      6: 'frog',       7: 'horse', 8: 'ship', 9: 'truck'\n",
    "             }"
   ]
  },
  {
   "cell_type": "code",
   "execution_count": 26,
   "id": "e9c33280",
   "metadata": {
    "colab": {
     "base_uri": "https://localhost:8080/",
     "height": 294
    },
    "executionInfo": {
     "elapsed": 398,
     "status": "ok",
     "timestamp": 1733070458296,
     "user": {
      "displayName": "YP Wong MMU",
      "userId": "07689819114152186357"
     },
     "user_tz": -480
    },
    "id": "e9c33280",
    "outputId": "01c99664-2d59-4863-a0a7-bc2324c1a509"
   },
   "outputs": [
    {
     "name": "stdout",
     "output_type": "stream",
     "text": [
      "Text(0.5, 1.0, '(Label: frog)')\n",
      "Text(0.5, 1.0, '(Label: cat)')\n"
     ]
    },
    {
     "data": {
      "image/png": "[encoded data removed]",
      "text/plain": [
       "<Figure size 500x500 with 2 Axes>"
      ]
     },
     "metadata": {},
     "output_type": "display_data"
    }
   ],
   "source": [
    "plt.figure(figsize = [5, 5])\n",
    "\n",
    "# Display the first image in training data\n",
    "plt.subplot(121)\n",
    "curr_img = np.reshape(X_train[0], (32, 32, 3))\n",
    "plt.imshow(curr_img)\n",
    "\n",
    "print(plt.title(\"(Label: \" + str(label_dict[y_train[0][0]]) + \")\"))\n",
    "\n",
    "# Display the first image in testing data\n",
    "plt.subplot(122)\n",
    "curr_img = np.reshape(X_test[0],(32, 32, 3))\n",
    "plt.imshow(curr_img)\n",
    "\n",
    "print(plt.title(\"(Label: \" + str(label_dict[y_test[0][0]]) + \")\"))"
   ]
  },
  {
   "cell_type": "markdown",
   "id": "af0a74ed",
   "metadata": {
    "id": "af0a74ed"
   },
   "source": [
    "## Data Visualization using PCA - CIFAR-10\n"
   ]
  },
  {
   "cell_type": "code",
   "execution_count": 28,
   "id": "c1c3aa58",
   "metadata": {
    "colab": {
     "base_uri": "https://localhost:8080/"
    },
    "executionInfo": {
     "elapsed": 10,
     "status": "ok",
     "timestamp": 1733070458297,
     "user": {
      "displayName": "YP Wong MMU",
      "userId": "07689819114152186357"
     },
     "user_tz": -480
    },
    "id": "c1c3aa58",
    "outputId": "d612dfb8-b76b-4903-f43b-3633411f6ba6"
   },
   "outputs": [
    {
     "name": "stdout",
     "output_type": "stream",
     "text": [
      "np.min(X_train) = 0\n",
      "np.max(X_train) = 255\n",
      "np.min(X_test) = 0\n",
      "np.max(X_test) = 255\n"
     ]
    }
   ],
   "source": [
    "print(\"np.min(X_train) =\", np.min(X_train))\n",
    "print(\"np.max(X_train) =\", np.max(X_train))\n",
    "\n",
    "print(\"np.min(X_test) =\", np.min(X_test))\n",
    "print(\"np.max(X_test) =\", np.max(X_test))"
   ]
  },
  {
   "cell_type": "code",
   "execution_count": 29,
   "id": "614ed59a",
   "metadata": {
    "colab": {
     "base_uri": "https://localhost:8080/"
    },
    "executionInfo": {
     "elapsed": 8,
     "status": "ok",
     "timestamp": 1733070458297,
     "user": {
      "displayName": "YP Wong MMU",
      "userId": "07689819114152186357"
     },
     "user_tz": -480
    },
    "id": "614ed59a",
    "outputId": "47ab784f-b323-4c71-f62b-51bb186973ec"
   },
   "outputs": [
    {
     "name": "stdout",
     "output_type": "stream",
     "text": [
      "np.min(X_train) = 0.0\n",
      "np.max(X_train) = 1.0\n",
      "np.min(X_test) = 0.0\n",
      "np.max(X_test) = 1.0\n"
     ]
    }
   ],
   "source": [
    "X_train = X_train / np.max(X_train)\n",
    "X_test  = X_test  / np.max(X_test)\n",
    "\n",
    "print(\"np.min(X_train) =\", np.min(X_train))\n",
    "print(\"np.max(X_train) =\", np.max(X_train))\n",
    "\n",
    "print(\"np.min(X_test) =\", np.min(X_test))\n",
    "print(\"np.max(X_test) =\", np.max(X_test))"
   ]
  },
  {
   "cell_type": "code",
   "execution_count": 30,
   "id": "0d842a77",
   "metadata": {
    "colab": {
     "base_uri": "https://localhost:8080/"
    },
    "executionInfo": {
     "elapsed": 357,
     "status": "ok",
     "timestamp": 1733070458649,
     "user": {
      "displayName": "YP Wong MMU",
      "userId": "07689819114152186357"
     },
     "user_tz": -480
    },
    "id": "0d842a77",
    "outputId": "bdde40b4-7dd5-4f3c-cc5c-a1bced3c59e8"
   },
   "outputs": [
    {
     "name": "stdout",
     "output_type": "stream",
     "text": [
      "(800, 3072)\n",
      "(200, 3072)\n"
     ]
    }
   ],
   "source": [
    "X_train_flattened = X_train.reshape(X_train.shape[0], -1)\n",
    "X_test_flattened  = X_test.reshape(X_test.shape[0], -1)\n",
    "\n",
    "print(X_train_flattened.shape)\n",
    "print(X_test_flattened.shape)"
   ]
  },
  {
   "cell_type": "code",
   "execution_count": 32,
   "id": "347c5da9",
   "metadata": {
    "colab": {
     "base_uri": "https://localhost:8080/"
    },
    "executionInfo": {
     "elapsed": 5,
     "status": "ok",
     "timestamp": 1733070458649,
     "user": {
      "displayName": "YP Wong MMU",
      "userId": "07689819114152186357"
     },
     "user_tz": -480
    },
    "id": "347c5da9",
    "outputId": "5fe1298d-1e66-4ab6-9b80-e8ead20b70f3"
   },
   "outputs": [
    {
     "name": "stdout",
     "output_type": "stream",
     "text": [
      "(800, 3073)\n"
     ]
    }
   ],
   "source": [
    "feature_columns = ['pixel' + str(i) for i in range(X_train_flattened.shape[1])]\n",
    "\n",
    "cifar_df = pd.DataFrame(X_train_flattened, columns = feature_columns)\n",
    "\n",
    "cifar_df[\"label\"] = y_train\n",
    "\n",
    "print(cifar_df.shape)"
   ]
  },
  {
   "cell_type": "code",
   "execution_count": 33,
   "id": "b75e5dca",
   "metadata": {
    "colab": {
     "base_uri": "https://localhost:8080/",
     "height": 255
    },
    "executionInfo": {
     "elapsed": 5,
     "status": "ok",
     "timestamp": 1733070458650,
     "user": {
      "displayName": "YP Wong MMU",
      "userId": "07689819114152186357"
     },
     "user_tz": -480
    },
    "id": "b75e5dca",
    "outputId": "d71322eb-4466-4d27-9a67-d9a7b10a785c"
   },
   "outputs": [
    {
     "data": {
      "text/html": [
       "<div>\n",
       "<style scoped>\n",
       "    .dataframe tbody tr th:only-of-type {\n",
       "        vertical-align: middle;\n",
       "    }\n",
       "\n",
       "    .dataframe tbody tr th {\n",
       "        vertical-align: top;\n",
       "    }\n",
       "\n",
       "    .dataframe thead th {\n",
       "        text-align: right;\n",
       "    }\n",
       "</style>\n",
       "<table border=\"1\" class=\"dataframe\">\n",
       "  <thead>\n",
       "    <tr style=\"text-align: right;\">\n",
       "      <th></th>\n",
       "      <th>pixel0</th>\n",
       "      <th>pixel1</th>\n",
       "      <th>pixel2</th>\n",
       "      <th>pixel3</th>\n",
       "      <th>pixel4</th>\n",
       "      <th>pixel5</th>\n",
       "      <th>pixel6</th>\n",
       "      <th>pixel7</th>\n",
       "      <th>pixel8</th>\n",
       "      <th>pixel9</th>\n",
       "      <th>...</th>\n",
       "      <th>pixel3063</th>\n",
       "      <th>pixel3064</th>\n",
       "      <th>pixel3065</th>\n",
       "      <th>pixel3066</th>\n",
       "      <th>pixel3067</th>\n",
       "      <th>pixel3068</th>\n",
       "      <th>pixel3069</th>\n",
       "      <th>pixel3070</th>\n",
       "      <th>pixel3071</th>\n",
       "      <th>label</th>\n",
       "    </tr>\n",
       "  </thead>\n",
       "  <tbody>\n",
       "    <tr>\n",
       "      <th>0</th>\n",
       "      <td>0.231373</td>\n",
       "      <td>0.243137</td>\n",
       "      <td>0.247059</td>\n",
       "      <td>0.168627</td>\n",
       "      <td>0.180392</td>\n",
       "      <td>0.176471</td>\n",
       "      <td>0.196078</td>\n",
       "      <td>0.188235</td>\n",
       "      <td>0.168627</td>\n",
       "      <td>0.266667</td>\n",
       "      <td>...</td>\n",
       "      <td>0.847059</td>\n",
       "      <td>0.721569</td>\n",
       "      <td>0.549020</td>\n",
       "      <td>0.592157</td>\n",
       "      <td>0.462745</td>\n",
       "      <td>0.329412</td>\n",
       "      <td>0.482353</td>\n",
       "      <td>0.360784</td>\n",
       "      <td>0.282353</td>\n",
       "      <td>6</td>\n",
       "    </tr>\n",
       "    <tr>\n",
       "      <th>1</th>\n",
       "      <td>0.603922</td>\n",
       "      <td>0.694118</td>\n",
       "      <td>0.733333</td>\n",
       "      <td>0.494118</td>\n",
       "      <td>0.537255</td>\n",
       "      <td>0.533333</td>\n",
       "      <td>0.411765</td>\n",
       "      <td>0.407843</td>\n",
       "      <td>0.372549</td>\n",
       "      <td>0.400000</td>\n",
       "      <td>...</td>\n",
       "      <td>0.560784</td>\n",
       "      <td>0.521569</td>\n",
       "      <td>0.545098</td>\n",
       "      <td>0.560784</td>\n",
       "      <td>0.525490</td>\n",
       "      <td>0.556863</td>\n",
       "      <td>0.560784</td>\n",
       "      <td>0.521569</td>\n",
       "      <td>0.564706</td>\n",
       "      <td>9</td>\n",
       "    </tr>\n",
       "    <tr>\n",
       "      <th>2</th>\n",
       "      <td>1.000000</td>\n",
       "      <td>1.000000</td>\n",
       "      <td>1.000000</td>\n",
       "      <td>0.992157</td>\n",
       "      <td>0.992157</td>\n",
       "      <td>0.992157</td>\n",
       "      <td>0.992157</td>\n",
       "      <td>0.992157</td>\n",
       "      <td>0.992157</td>\n",
       "      <td>0.992157</td>\n",
       "      <td>...</td>\n",
       "      <td>0.305882</td>\n",
       "      <td>0.333333</td>\n",
       "      <td>0.325490</td>\n",
       "      <td>0.309804</td>\n",
       "      <td>0.333333</td>\n",
       "      <td>0.325490</td>\n",
       "      <td>0.313725</td>\n",
       "      <td>0.337255</td>\n",
       "      <td>0.329412</td>\n",
       "      <td>9</td>\n",
       "    </tr>\n",
       "    <tr>\n",
       "      <th>3</th>\n",
       "      <td>0.109804</td>\n",
       "      <td>0.098039</td>\n",
       "      <td>0.039216</td>\n",
       "      <td>0.145098</td>\n",
       "      <td>0.133333</td>\n",
       "      <td>0.074510</td>\n",
       "      <td>0.149020</td>\n",
       "      <td>0.137255</td>\n",
       "      <td>0.078431</td>\n",
       "      <td>0.164706</td>\n",
       "      <td>...</td>\n",
       "      <td>0.211765</td>\n",
       "      <td>0.184314</td>\n",
       "      <td>0.109804</td>\n",
       "      <td>0.247059</td>\n",
       "      <td>0.219608</td>\n",
       "      <td>0.145098</td>\n",
       "      <td>0.282353</td>\n",
       "      <td>0.254902</td>\n",
       "      <td>0.180392</td>\n",
       "      <td>4</td>\n",
       "    </tr>\n",
       "    <tr>\n",
       "      <th>4</th>\n",
       "      <td>0.666667</td>\n",
       "      <td>0.705882</td>\n",
       "      <td>0.776471</td>\n",
       "      <td>0.658824</td>\n",
       "      <td>0.698039</td>\n",
       "      <td>0.768627</td>\n",
       "      <td>0.694118</td>\n",
       "      <td>0.725490</td>\n",
       "      <td>0.796078</td>\n",
       "      <td>0.717647</td>\n",
       "      <td>...</td>\n",
       "      <td>0.294118</td>\n",
       "      <td>0.309804</td>\n",
       "      <td>0.321569</td>\n",
       "      <td>0.278431</td>\n",
       "      <td>0.294118</td>\n",
       "      <td>0.305882</td>\n",
       "      <td>0.286275</td>\n",
       "      <td>0.301961</td>\n",
       "      <td>0.313725</td>\n",
       "      <td>1</td>\n",
       "    </tr>\n",
       "  </tbody>\n",
       "</table>\n",
       "<p>5 rows × 3073 columns</p>\n",
       "</div>"
      ],
      "text/plain": [
       "     pixel0    pixel1    pixel2    pixel3    pixel4    pixel5    pixel6  \\\n",
       "0  0.231373  0.243137  0.247059  0.168627  0.180392  0.176471  0.196078   \n",
       "1  0.603922  0.694118  0.733333  0.494118  0.537255  0.533333  0.411765   \n",
       "2  1.000000  1.000000  1.000000  0.992157  0.992157  0.992157  0.992157   \n",
       "3  0.109804  0.098039  0.039216  0.145098  0.133333  0.074510  0.149020   \n",
       "4  0.666667  0.705882  0.776471  0.658824  0.698039  0.768627  0.694118   \n",
       "\n",
       "     pixel7    pixel8    pixel9  ...  pixel3063  pixel3064  pixel3065  \\\n",
       "0  0.188235  0.168627  0.266667  ...   0.847059   0.721569   0.549020   \n",
       "1  0.407843  0.372549  0.400000  ...   0.560784   0.521569   0.545098   \n",
       "2  0.992157  0.992157  0.992157  ...   0.305882   0.333333   0.325490   \n",
       "3  0.137255  0.078431  0.164706  ...   0.211765   0.184314   0.109804   \n",
       "4  0.725490  0.796078  0.717647  ...   0.294118   0.309804   0.321569   \n",
       "\n",
       "   pixel3066  pixel3067  pixel3068  pixel3069  pixel3070  pixel3071  label  \n",
       "0   0.592157   0.462745   0.329412   0.482353   0.360784   0.282353      6  \n",
       "1   0.560784   0.525490   0.556863   0.560784   0.521569   0.564706      9  \n",
       "2   0.309804   0.333333   0.325490   0.313725   0.337255   0.329412      9  \n",
       "3   0.247059   0.219608   0.145098   0.282353   0.254902   0.180392      4  \n",
       "4   0.278431   0.294118   0.305882   0.286275   0.301961   0.313725      1  \n",
       "\n",
       "[5 rows x 3073 columns]"
      ]
     },
     "execution_count": 33,
     "metadata": {},
     "output_type": "execute_result"
    }
   ],
   "source": [
    "cifar_df.head()"
   ]
  },
  {
   "cell_type": "code",
   "execution_count": 34,
   "id": "2ed9e731",
   "metadata": {
    "colab": {
     "base_uri": "https://localhost:8080/",
     "height": 224
    },
    "executionInfo": {
     "elapsed": 397,
     "status": "ok",
     "timestamp": 1733070459043,
     "user": {
      "displayName": "YP Wong MMU",
      "userId": "07689819114152186357"
     },
     "user_tz": -480
    },
    "id": "2ed9e731",
    "outputId": "96d9c9be-cbb9-4ece-eddb-c216331cacb3"
   },
   "outputs": [
    {
     "name": "stdout",
     "output_type": "stream",
     "text": [
      "Explained variation per principal component: [0.28986339 0.11142274]\n"
     ]
    },
    {
     "data": {
      "text/html": [
       "<div>\n",
       "<style scoped>\n",
       "    .dataframe tbody tr th:only-of-type {\n",
       "        vertical-align: middle;\n",
       "    }\n",
       "\n",
       "    .dataframe tbody tr th {\n",
       "        vertical-align: top;\n",
       "    }\n",
       "\n",
       "    .dataframe thead th {\n",
       "        text-align: right;\n",
       "    }\n",
       "</style>\n",
       "<table border=\"1\" class=\"dataframe\">\n",
       "  <thead>\n",
       "    <tr style=\"text-align: right;\">\n",
       "      <th></th>\n",
       "      <th>principal component 1</th>\n",
       "      <th>principal component 2</th>\n",
       "      <th>y</th>\n",
       "    </tr>\n",
       "  </thead>\n",
       "  <tbody>\n",
       "    <tr>\n",
       "      <th>0</th>\n",
       "      <td>-6.647671</td>\n",
       "      <td>1.990157</td>\n",
       "      <td>6</td>\n",
       "    </tr>\n",
       "    <tr>\n",
       "      <th>1</th>\n",
       "      <td>0.891439</td>\n",
       "      <td>-1.805314</td>\n",
       "      <td>9</td>\n",
       "    </tr>\n",
       "    <tr>\n",
       "      <th>2</th>\n",
       "      <td>8.013133</td>\n",
       "      <td>-10.264463</td>\n",
       "      <td>9</td>\n",
       "    </tr>\n",
       "    <tr>\n",
       "      <th>3</th>\n",
       "      <td>-10.416198</td>\n",
       "      <td>-0.580872</td>\n",
       "      <td>4</td>\n",
       "    </tr>\n",
       "    <tr>\n",
       "      <th>4</th>\n",
       "      <td>-2.317651</td>\n",
       "      <td>-4.752451</td>\n",
       "      <td>1</td>\n",
       "    </tr>\n",
       "  </tbody>\n",
       "</table>\n",
       "</div>"
      ],
      "text/plain": [
       "   principal component 1  principal component 2  y\n",
       "0              -6.647671               1.990157  6\n",
       "1               0.891439              -1.805314  9\n",
       "2               8.013133             -10.264463  9\n",
       "3             -10.416198              -0.580872  4\n",
       "4              -2.317651              -4.752451  1"
      ]
     },
     "execution_count": 34,
     "metadata": {},
     "output_type": "execute_result"
    }
   ],
   "source": [
    "cifar_pca = PCA(n_components = 2)\n",
    "\n",
    "cifar_principal_components = cifar_pca.fit_transform(cifar_df.iloc[:1000,:-1])\n",
    "\n",
    "cifar_pca_df = pd.DataFrame(data = cifar_principal_components,\n",
    "                            columns = [\"principal component 1\", \"principal component 2\"])\n",
    "\n",
    "cifar_pca_df['y'] = y_train\n",
    "\n",
    "print('Explained variation per principal component: {}'.format(cifar_pca.explained_variance_ratio_))\n",
    "\n",
    "cifar_pca_df.head()"
   ]
  },
  {
   "cell_type": "markdown",
   "id": "9530c04a",
   "metadata": {
    "id": "9530c04a"
   },
   "source": [
    "Well, it looks like a decent amount of information was retained by the principal components 1 and 2, given that the data was projected from 3072 dimensions to a mere two principal components.\n",
    "\n",
    "Its time to visualize the CIFAR-10 data in a two-dimensional space. Remember that there is some semantic class overlap in this dataset which means that a frog can have a slightly similar shape of a cat or a deer with a dog; especially when projected in a two-dimensional space. The differences between them might not be captured that well.\n"
   ]
  },
  {
   "cell_type": "code",
   "execution_count": 36,
   "id": "436a22e1",
   "metadata": {
    "colab": {
     "base_uri": "https://localhost:8080/",
     "height": 840
    },
    "executionInfo": {
     "elapsed": 1811,
     "status": "ok",
     "timestamp": 1733070460851,
     "user": {
      "displayName": "YP Wong MMU",
      "userId": "07689819114152186357"
     },
     "user_tz": -480
    },
    "id": "436a22e1",
    "outputId": "638c793f-1449-46d1-d9e5-783c5345da18"
   },
   "outputs": [
    {
     "data": {
      "text/plain": [
       "<Axes: xlabel='principal component 1', ylabel='principal component 2'>"
      ]
     },
     "execution_count": 36,
     "metadata": {},
     "output_type": "execute_result"
    },
    {
     "data": {
      "image/png": "[encoded data removed]",
      "text/plain": [
       "<Figure size 1600x1000 with 1 Axes>"
      ]
     },
     "metadata": {},
     "output_type": "display_data"
    }
   ],
   "source": [
    "import seaborn as sns\n",
    "\n",
    "plt.figure(figsize = (16, 10))\n",
    "\n",
    "sns.scatterplot(\n",
    "    x = \"principal component 1\",\n",
    "    y = \"principal component 2\",\n",
    "    hue = \"y\",\n",
    "    palette = sns.color_palette(\"flare\", 10),\n",
    "    data = cifar_pca_df,\n",
    "    legend = \"full\",\n",
    "    alpha = 0.3\n",
    ")"
   ]
  },
  {
   "cell_type": "code",
   "execution_count": 89,
   "id": "cf517fd9-9750-4db9-a792-1f2cc390eb12",
   "metadata": {},
   "outputs": [
    {
     "name": "stderr",
     "output_type": "stream",
     "text": [
      "Clipping input data to the valid range for imshow with RGB data ([0..1] for floats or [0..255] for integers).\n"
     ]
    },
    {
     "data": {
      "image/png": "[encoded data removed]",
      "text/plain": [
       "<Figure size 640x480 with 1 Axes>"
      ]
     },
     "metadata": {},
     "output_type": "display_data"
    }
   ],
   "source": [
    "# Transforming back the PCA output to original dimensions to visualize the loss due to PCA\n",
    "X_approx = cifar_pca.inverse_transform(X_train_pcs[0])\n",
    "X_approx_img = np.reshape(X_approx, (32, 32, 3))\n",
    "\n",
    "# Display the first image after PCA transformation and inverse transformation\n",
    "plt.subplot(122)\n",
    "plt.imshow(X_approx_img)\n",
    "plt.title(\"Reconstructed Image After PCA\")\n",
    "plt.show()\n"
   ]
  },
  {
   "cell_type": "markdown",
   "id": "aogsYLtl7TqX",
   "metadata": {
    "id": "aogsYLtl7TqX"
   },
   "source": [
    "From the above figure, you can observe that some variation was captured by the principal components since there is some structure in the points when projected along the two principal component axis. The points belonging to the same class are close to each other, and the points or images that are very different semantically are further away from each other."
   ]
  },
  {
   "cell_type": "markdown",
   "id": "PdtotvVeOdfb",
   "metadata": {
    "id": "PdtotvVeOdfb"
   },
   "source": [
    "## Deep Learning Training with CIFAR-10 Dataset"
   ]
  },
  {
   "cell_type": "code",
   "execution_count": 39,
   "id": "lWYPnufbE_E7",
   "metadata": {
    "executionInfo": {
     "elapsed": 7,
     "status": "ok",
     "timestamp": 1733070460852,
     "user": {
      "displayName": "YP Wong MMU",
      "userId": "07689819114152186357"
     },
     "user_tz": -480
    },
    "id": "lWYPnufbE_E7"
   },
   "outputs": [],
   "source": [
    "def create_model(input_size, num_classes):\n",
    "  model = Sequential()\n",
    "  model.add(Dense(1024, activation = 'relu',\n",
    "                  input_shape = (input_size,)))\n",
    "  model.add(Dense(1024, activation = 'relu'))\n",
    "  model.add(Dense( 512, activation = 'relu'))\n",
    "  model.add(Dense( 256, activation = 'relu'))\n",
    "  model.add(Dense(num_classes, activation = 'softmax'))\n",
    "  return model"
   ]
  },
  {
   "cell_type": "code",
   "execution_count": 40,
   "id": "9gtvBhpd8XW6",
   "metadata": {
    "colab": {
     "base_uri": "https://localhost:8080/"
    },
    "executionInfo": {
     "elapsed": 348,
     "status": "ok",
     "timestamp": 1733070461194,
     "user": {
      "displayName": "YP Wong MMU",
      "userId": "07689819114152186357"
     },
     "user_tz": -480
    },
    "id": "9gtvBhpd8XW6",
    "outputId": "2532ca98-0483-48bc-c2cb-baf024504b30"
   },
   "outputs": [
    {
     "name": "stdout",
     "output_type": "stream",
     "text": [
      "X_train.shape = (800, 32, 32, 3)\n",
      "X_test.shape = (200, 32, 32, 3)\n",
      "y_train.shape = (800, 1)\n",
      "y_test.shape = (200, 1)\n"
     ]
    }
   ],
   "source": [
    "from keras.datasets import cifar10\n",
    "from keras.models import Sequential\n",
    "from keras.layers import Dense\n",
    "from keras.utils import to_categorical\n",
    "\n",
    "(X_train, y_train), (X_test, y_test) = cifar10.load_data()\n",
    "\n",
    "train_size = 800   # maximum is 50000\n",
    "test_size = 200    # maximum is 10000\n",
    "\n",
    "(X_train, y_train), (X_test, y_test) = (X_train[:train_size], y_train[:train_size]),  \\\n",
    "                                       (X_test[:test_size],  y_test[:test_size])\n",
    "\n",
    "print(\"X_train.shape =\", X_train.shape)\n",
    "print(\"X_test.shape =\",  X_test.shape)\n",
    "\n",
    "print(\"y_train.shape =\", y_train.shape)\n",
    "print(\"y_test.shape =\", y_test.shape)"
   ]
  },
  {
   "cell_type": "code",
   "execution_count": 41,
   "id": "rrtHHmsf8fpD",
   "metadata": {
    "colab": {
     "base_uri": "https://localhost:8080/"
    },
    "executionInfo": {
     "elapsed": 7,
     "status": "ok",
     "timestamp": 1733070461194,
     "user": {
      "displayName": "YP Wong MMU",
      "userId": "07689819114152186357"
     },
     "user_tz": -480
    },
    "id": "rrtHHmsf8fpD",
    "outputId": "81761756-2eda-42f5-8549-2418cd845a8e"
   },
   "outputs": [
    {
     "name": "stdout",
     "output_type": "stream",
     "text": [
      "(800, 3072)\n",
      "(200, 3072)\n"
     ]
    }
   ],
   "source": [
    "# Normalized data\n",
    "X_train = X_train / np.max(X_train)\n",
    "X_test  = X_test  / np.max(X_test)\n",
    "\n",
    "X_train_flattened = X_train.reshape(X_train.shape[0], -1)\n",
    "X_test_flattened  = X_test.reshape(X_test.shape[0], -1)\n",
    "\n",
    "print(X_train_flattened.shape)\n",
    "print(X_test_flattened.shape)"
   ]
  },
  {
   "cell_type": "code",
   "execution_count": 42,
   "id": "LYDplNw7-x4x",
   "metadata": {
    "colab": {
     "base_uri": "https://localhost:8080/"
    },
    "executionInfo": {
     "elapsed": 4,
     "status": "ok",
     "timestamp": 1733070461194,
     "user": {
      "displayName": "YP Wong MMU",
      "userId": "07689819114152186357"
     },
     "user_tz": -480
    },
    "id": "LYDplNw7-x4x",
    "outputId": "477f12cf-ec35-492a-985a-b6bfe46580a5"
   },
   "outputs": [
    {
     "name": "stdout",
     "output_type": "stream",
     "text": [
      "y_train.shape = (800, 10)\n",
      "y_test.shape = (200, 10)\n"
     ]
    }
   ],
   "source": [
    "y_train = to_categorical(y_train)\n",
    "y_test = to_categorical(y_test)\n",
    "\n",
    "print(\"y_train.shape =\", y_train.shape)\n",
    "print(\"y_test.shape =\", y_test.shape)"
   ]
  },
  {
   "cell_type": "markdown",
   "id": "e333283c",
   "metadata": {
    "id": "e333283c"
   },
   "source": [
    "### With PCA\n"
   ]
  },
  {
   "cell_type": "code",
   "execution_count": 44,
   "id": "glei3Lk89JZR",
   "metadata": {
    "colab": {
     "base_uri": "https://localhost:8080/"
    },
    "executionInfo": {
     "elapsed": 1529,
     "status": "ok",
     "timestamp": 1733070462721,
     "user": {
      "displayName": "YP Wong MMU",
      "userId": "07689819114152186357"
     },
     "user_tz": -480
    },
    "id": "glei3Lk89JZR",
    "outputId": "cde9a8ba-d104-46b6-d936-b24904b99afd"
   },
   "outputs": [
    {
     "name": "stdout",
     "output_type": "stream",
     "text": [
      "n_components_ = 83\n",
      "Explained variation per principal component: [0.28986339 0.11142274 0.06320023 0.03834746 0.03588732 0.02732871\n",
      " 0.02671904 0.02493325 0.02029883 0.01468537 0.01357821 0.01137287\n",
      " 0.01039815 0.00970824 0.00927267 0.00884102 0.00827935 0.00762178\n",
      " 0.00708355 0.00704695 0.00634673 0.0056454  0.00537674 0.00513374\n",
      " 0.00492868 0.00488338 0.00481173 0.00452808 0.00438855 0.00427008\n",
      " 0.00400966 0.00385831 0.00352653 0.00343986 0.00327039 0.0032342\n",
      " 0.00307641 0.00298467 0.0029003  0.00271437 0.00269634 0.0026168\n",
      " 0.00255533 0.0023753  0.00234089 0.00226002 0.00218797 0.00216224\n",
      " 0.00209488 0.0020478  0.00199967 0.00196804 0.00192962 0.00188816\n",
      " 0.00185849 0.00178862 0.00175458 0.00173098 0.00170683 0.0016839\n",
      " 0.00162746 0.00160599 0.00152762 0.00151717 0.00150819 0.00144018\n",
      " 0.00141101 0.00136886 0.00135852 0.0013414  0.00131443 0.00129829\n",
      " 0.00125529 0.00123154 0.00119239 0.00117725 0.00114056 0.00112007\n",
      " 0.00110972 0.00109095 0.00107779 0.00106285 0.00103189]\n"
     ]
    }
   ],
   "source": [
    "cifar_pca = PCA(0.9)  # how much variance we would like PCA to capture and hence,\n",
    "                      #    the n_components will vary based on the variance parameter.\n",
    "\n",
    "cifar_pca.fit(X_train_flattened)\n",
    "\n",
    "print(\"n_components_ =\", cifar_pca.n_components_)\n",
    "\n",
    "print('Explained variation per principal component: {}'.format(cifar_pca.explained_variance_ratio_))"
   ]
  },
  {
   "cell_type": "code",
   "execution_count": 45,
   "id": "HNBsVd82-gRK",
   "metadata": {
    "executionInfo": {
     "elapsed": 7,
     "status": "ok",
     "timestamp": 1733070462721,
     "user": {
      "displayName": "YP Wong MMU",
      "userId": "07689819114152186357"
     },
     "user_tz": -480
    },
    "id": "HNBsVd82-gRK"
   },
   "outputs": [],
   "source": [
    "# Transform image into principal components\n",
    "X_train_pcs = cifar_pca.transform(X_train_flattened)\n",
    "X_test_pcs = cifar_pca.transform(X_test_flattened)"
   ]
  },
  {
   "cell_type": "code",
   "execution_count": 46,
   "id": "ZLcw4eUY-xvQ",
   "metadata": {
    "colab": {
     "base_uri": "https://localhost:8080/",
     "height": 351
    },
    "executionInfo": {
     "elapsed": 7,
     "status": "ok",
     "timestamp": 1733070462721,
     "user": {
      "displayName": "YP Wong MMU",
      "userId": "07689819114152186357"
     },
     "user_tz": -480
    },
    "id": "ZLcw4eUY-xvQ",
    "outputId": "73b5ba3f-8f48-4d8d-c433-4217b17f49b7"
   },
   "outputs": [
    {
     "name": "stderr",
     "output_type": "stream",
     "text": [
      "/opt/anaconda3/lib/python3.11/site-packages/keras/src/layers/core/dense.py:87: UserWarning: Do not pass an `input_shape`/`input_dim` argument to a layer. When using Sequential models, prefer using an `Input(shape)` object as the first layer in the model instead.\n",
      "  super().__init__(activity_regularizer=activity_regularizer, **kwargs)\n"
     ]
    },
    {
     "data": {
      "text/html": [
       "<pre style=\"white-space:pre;overflow-x:auto;line-height:normal;font-family:Menlo,'DejaVu Sans Mono',consolas,'Courier New',monospace\"><span style=\"font-weight: bold\">Model: \"sequential\"</span>\n",
       "</pre>\n"
      ],
      "text/plain": [
       "\u001b[1mModel: \"sequential\"\u001b[0m\n"
      ]
     },
     "metadata": {},
     "output_type": "display_data"
    },
    {
     "data": {
      "text/html": [
       "<pre style=\"white-space:pre;overflow-x:auto;line-height:normal;font-family:Menlo,'DejaVu Sans Mono',consolas,'Courier New',monospace\">┏━━━━━━━━━━━━━━━━━━━━━━━━━━━━━━━━━┳━━━━━━━━━━━━━━━━━━━━━━━━┳━━━━━━━━━━━━━━━┓\n",
       "┃<span style=\"font-weight: bold\"> Layer (type)                    </span>┃<span style=\"font-weight: bold\"> Output Shape           </span>┃<span style=\"font-weight: bold\">       Param # </span>┃\n",
       "┡━━━━━━━━━━━━━━━━━━━━━━━━━━━━━━━━━╇━━━━━━━━━━━━━━━━━━━━━━━━╇━━━━━━━━━━━━━━━┩\n",
       "│ dense (<span style=\"color: #0087ff; text-decoration-color: #0087ff\">Dense</span>)                   │ (<span style=\"color: #00d7ff; text-decoration-color: #00d7ff\">None</span>, <span style=\"color: #00af00; text-decoration-color: #00af00\">1024</span>)           │        <span style=\"color: #00af00; text-decoration-color: #00af00\">86,016</span> │\n",
       "├─────────────────────────────────┼────────────────────────┼───────────────┤\n",
       "│ dense_1 (<span style=\"color: #0087ff; text-decoration-color: #0087ff\">Dense</span>)                 │ (<span style=\"color: #00d7ff; text-decoration-color: #00d7ff\">None</span>, <span style=\"color: #00af00; text-decoration-color: #00af00\">1024</span>)           │     <span style=\"color: #00af00; text-decoration-color: #00af00\">1,049,600</span> │\n",
       "├─────────────────────────────────┼────────────────────────┼───────────────┤\n",
       "│ dense_2 (<span style=\"color: #0087ff; text-decoration-color: #0087ff\">Dense</span>)                 │ (<span style=\"color: #00d7ff; text-decoration-color: #00d7ff\">None</span>, <span style=\"color: #00af00; text-decoration-color: #00af00\">512</span>)            │       <span style=\"color: #00af00; text-decoration-color: #00af00\">524,800</span> │\n",
       "├─────────────────────────────────┼────────────────────────┼───────────────┤\n",
       "│ dense_3 (<span style=\"color: #0087ff; text-decoration-color: #0087ff\">Dense</span>)                 │ (<span style=\"color: #00d7ff; text-decoration-color: #00d7ff\">None</span>, <span style=\"color: #00af00; text-decoration-color: #00af00\">256</span>)            │       <span style=\"color: #00af00; text-decoration-color: #00af00\">131,328</span> │\n",
       "├─────────────────────────────────┼────────────────────────┼───────────────┤\n",
       "│ dense_4 (<span style=\"color: #0087ff; text-decoration-color: #0087ff\">Dense</span>)                 │ (<span style=\"color: #00d7ff; text-decoration-color: #00d7ff\">None</span>, <span style=\"color: #00af00; text-decoration-color: #00af00\">10</span>)             │         <span style=\"color: #00af00; text-decoration-color: #00af00\">2,570</span> │\n",
       "└─────────────────────────────────┴────────────────────────┴───────────────┘\n",
       "</pre>\n"
      ],
      "text/plain": [
       "┏━━━━━━━━━━━━━━━━━━━━━━━━━━━━━━━━━┳━━━━━━━━━━━━━━━━━━━━━━━━┳━━━━━━━━━━━━━━━┓\n",
       "┃\u001b[1m \u001b[0m\u001b[1mLayer (type)                   \u001b[0m\u001b[1m \u001b[0m┃\u001b[1m \u001b[0m\u001b[1mOutput Shape          \u001b[0m\u001b[1m \u001b[0m┃\u001b[1m \u001b[0m\u001b[1m      Param #\u001b[0m\u001b[1m \u001b[0m┃\n",
       "┡━━━━━━━━━━━━━━━━━━━━━━━━━━━━━━━━━╇━━━━━━━━━━━━━━━━━━━━━━━━╇━━━━━━━━━━━━━━━┩\n",
       "│ dense (\u001b[38;5;33mDense\u001b[0m)                   │ (\u001b[38;5;45mNone\u001b[0m, \u001b[38;5;34m1024\u001b[0m)           │        \u001b[38;5;34m86,016\u001b[0m │\n",
       "├─────────────────────────────────┼────────────────────────┼───────────────┤\n",
       "│ dense_1 (\u001b[38;5;33mDense\u001b[0m)                 │ (\u001b[38;5;45mNone\u001b[0m, \u001b[38;5;34m1024\u001b[0m)           │     \u001b[38;5;34m1,049,600\u001b[0m │\n",
       "├─────────────────────────────────┼────────────────────────┼───────────────┤\n",
       "│ dense_2 (\u001b[38;5;33mDense\u001b[0m)                 │ (\u001b[38;5;45mNone\u001b[0m, \u001b[38;5;34m512\u001b[0m)            │       \u001b[38;5;34m524,800\u001b[0m │\n",
       "├─────────────────────────────────┼────────────────────────┼───────────────┤\n",
       "│ dense_3 (\u001b[38;5;33mDense\u001b[0m)                 │ (\u001b[38;5;45mNone\u001b[0m, \u001b[38;5;34m256\u001b[0m)            │       \u001b[38;5;34m131,328\u001b[0m │\n",
       "├─────────────────────────────────┼────────────────────────┼───────────────┤\n",
       "│ dense_4 (\u001b[38;5;33mDense\u001b[0m)                 │ (\u001b[38;5;45mNone\u001b[0m, \u001b[38;5;34m10\u001b[0m)             │         \u001b[38;5;34m2,570\u001b[0m │\n",
       "└─────────────────────────────────┴────────────────────────┴───────────────┘\n"
      ]
     },
     "metadata": {},
     "output_type": "display_data"
    },
    {
     "data": {
      "text/html": [
       "<pre style=\"white-space:pre;overflow-x:auto;line-height:normal;font-family:Menlo,'DejaVu Sans Mono',consolas,'Courier New',monospace\"><span style=\"font-weight: bold\"> Total params: </span><span style=\"color: #00af00; text-decoration-color: #00af00\">1,794,314</span> (6.84 MB)\n",
       "</pre>\n"
      ],
      "text/plain": [
       "\u001b[1m Total params: \u001b[0m\u001b[38;5;34m1,794,314\u001b[0m (6.84 MB)\n"
      ]
     },
     "metadata": {},
     "output_type": "display_data"
    },
    {
     "data": {
      "text/html": [
       "<pre style=\"white-space:pre;overflow-x:auto;line-height:normal;font-family:Menlo,'DejaVu Sans Mono',consolas,'Courier New',monospace\"><span style=\"font-weight: bold\"> Trainable params: </span><span style=\"color: #00af00; text-decoration-color: #00af00\">1,794,314</span> (6.84 MB)\n",
       "</pre>\n"
      ],
      "text/plain": [
       "\u001b[1m Trainable params: \u001b[0m\u001b[38;5;34m1,794,314\u001b[0m (6.84 MB)\n"
      ]
     },
     "metadata": {},
     "output_type": "display_data"
    },
    {
     "data": {
      "text/html": [
       "<pre style=\"white-space:pre;overflow-x:auto;line-height:normal;font-family:Menlo,'DejaVu Sans Mono',consolas,'Courier New',monospace\"><span style=\"font-weight: bold\"> Non-trainable params: </span><span style=\"color: #00af00; text-decoration-color: #00af00\">0</span> (0.00 B)\n",
       "</pre>\n"
      ],
      "text/plain": [
       "\u001b[1m Non-trainable params: \u001b[0m\u001b[38;5;34m0\u001b[0m (0.00 B)\n"
      ]
     },
     "metadata": {},
     "output_type": "display_data"
    }
   ],
   "source": [
    "num_classes = 10\n",
    "model = create_model(cifar_pca.n_components_, num_classes)\n",
    "model.summary()"
   ]
  },
  {
   "cell_type": "code",
   "execution_count": 47,
   "id": "vlVgNQvN_BNY",
   "metadata": {
    "colab": {
     "base_uri": "https://localhost:8080/"
    },
    "executionInfo": {
     "elapsed": 8330,
     "status": "ok",
     "timestamp": 1733070471046,
     "user": {
      "displayName": "YP Wong MMU",
      "userId": "07689819114152186357"
     },
     "user_tz": -480
    },
    "id": "vlVgNQvN_BNY",
    "outputId": "66ae0d2b-11f3-4584-8ad5-a3a26e9207ed"
   },
   "outputs": [
    {
     "name": "stdout",
     "output_type": "stream",
     "text": [
      "Epoch 1/10\n",
      "\u001b[1m7/7\u001b[0m \u001b[32m━━━━━━━━━━━━━━━━━━━━\u001b[0m\u001b[37m\u001b[0m \u001b[1m1s\u001b[0m 27ms/step - accuracy: 0.1331 - loss: 2.3462 - val_accuracy: 0.2300 - val_loss: 2.2595\n",
      "Epoch 2/10\n",
      "\u001b[1m7/7\u001b[0m \u001b[32m━━━━━━━━━━━━━━━━━━━━\u001b[0m\u001b[37m\u001b[0m \u001b[1m0s\u001b[0m 19ms/step - accuracy: 0.2835 - loss: 2.0091 - val_accuracy: 0.2400 - val_loss: 2.0857\n",
      "Epoch 3/10\n",
      "\u001b[1m7/7\u001b[0m \u001b[32m━━━━━━━━━━━━━━━━━━━━\u001b[0m\u001b[37m\u001b[0m \u001b[1m0s\u001b[0m 20ms/step - accuracy: 0.3767 - loss: 1.7790 - val_accuracy: 0.3000 - val_loss: 2.0081\n",
      "Epoch 4/10\n",
      "\u001b[1m7/7\u001b[0m \u001b[32m━━━━━━━━━━━━━━━━━━━━\u001b[0m\u001b[37m\u001b[0m \u001b[1m0s\u001b[0m 31ms/step - accuracy: 0.4822 - loss: 1.5451 - val_accuracy: 0.2450 - val_loss: 2.1992\n",
      "Epoch 5/10\n",
      "\u001b[1m7/7\u001b[0m \u001b[32m━━━━━━━━━━━━━━━━━━━━\u001b[0m\u001b[37m\u001b[0m \u001b[1m0s\u001b[0m 15ms/step - accuracy: 0.4794 - loss: 1.4534 - val_accuracy: 0.2900 - val_loss: 2.3826\n",
      "Epoch 6/10\n",
      "\u001b[1m7/7\u001b[0m \u001b[32m━━━━━━━━━━━━━━━━━━━━\u001b[0m\u001b[37m\u001b[0m \u001b[1m0s\u001b[0m 13ms/step - accuracy: 0.5703 - loss: 1.1886 - val_accuracy: 0.2050 - val_loss: 2.4361\n",
      "Epoch 7/10\n",
      "\u001b[1m7/7\u001b[0m \u001b[32m━━━━━━━━━━━━━━━━━━━━\u001b[0m\u001b[37m\u001b[0m \u001b[1m0s\u001b[0m 13ms/step - accuracy: 0.6805 - loss: 1.0000 - val_accuracy: 0.3200 - val_loss: 2.3109\n",
      "Epoch 8/10\n",
      "\u001b[1m7/7\u001b[0m \u001b[32m━━━━━━━━━━━━━━━━━━━━\u001b[0m\u001b[37m\u001b[0m \u001b[1m0s\u001b[0m 14ms/step - accuracy: 0.6982 - loss: 0.9332 - val_accuracy: 0.2550 - val_loss: 2.5729\n",
      "Epoch 9/10\n",
      "\u001b[1m7/7\u001b[0m \u001b[32m━━━━━━━━━━━━━━━━━━━━\u001b[0m\u001b[37m\u001b[0m \u001b[1m0s\u001b[0m 13ms/step - accuracy: 0.8127 - loss: 0.5891 - val_accuracy: 0.2350 - val_loss: 2.9638\n",
      "Epoch 10/10\n",
      "\u001b[1m7/7\u001b[0m \u001b[32m━━━━━━━━━━━━━━━━━━━━\u001b[0m\u001b[37m\u001b[0m \u001b[1m0s\u001b[0m 17ms/step - accuracy: 0.7482 - loss: 0.7365 - val_accuracy: 0.2250 - val_loss: 3.2368\n"
     ]
    }
   ],
   "source": [
    "model.compile(loss = 'categorical_crossentropy',\n",
    "              optimizer = \"rmsprop\",\n",
    "              metrics = ['accuracy'])\n",
    "\n",
    "batch_size = 128\n",
    "epochs = 10\n",
    "\n",
    "history = model.fit(X_train_pcs,\n",
    "                    y_train,\n",
    "                    batch_size = batch_size,\n",
    "                    epochs = epochs,\n",
    "                    verbose = 1,\n",
    "                    validation_data = (X_test_pcs, y_test)\n",
    "                    )"
   ]
  },
  {
   "cell_type": "markdown",
   "id": "hI1EnL2xOBfa",
   "metadata": {
    "id": "hI1EnL2xOBfa"
   },
   "source": [
    "### Without PCA"
   ]
  },
  {
   "cell_type": "code",
   "execution_count": 49,
   "id": "SX40RFEKF44u",
   "metadata": {
    "colab": {
     "base_uri": "https://localhost:8080/",
     "height": 295
    },
    "executionInfo": {
     "elapsed": 370,
     "status": "ok",
     "timestamp": 1733070471403,
     "user": {
      "displayName": "YP Wong MMU",
      "userId": "07689819114152186357"
     },
     "user_tz": -480
    },
    "id": "SX40RFEKF44u",
    "outputId": "caadac74-b43f-4bd6-b04b-16b5dd83430c"
   },
   "outputs": [
    {
     "name": "stderr",
     "output_type": "stream",
     "text": [
      "/opt/anaconda3/lib/python3.11/site-packages/keras/src/layers/core/dense.py:87: UserWarning: Do not pass an `input_shape`/`input_dim` argument to a layer. When using Sequential models, prefer using an `Input(shape)` object as the first layer in the model instead.\n",
      "  super().__init__(activity_regularizer=activity_regularizer, **kwargs)\n"
     ]
    },
    {
     "data": {
      "text/html": [
       "<pre style=\"white-space:pre;overflow-x:auto;line-height:normal;font-family:Menlo,'DejaVu Sans Mono',consolas,'Courier New',monospace\"><span style=\"font-weight: bold\">Model: \"sequential_1\"</span>\n",
       "</pre>\n"
      ],
      "text/plain": [
       "\u001b[1mModel: \"sequential_1\"\u001b[0m\n"
      ]
     },
     "metadata": {},
     "output_type": "display_data"
    },
    {
     "data": {
      "text/html": [
       "<pre style=\"white-space:pre;overflow-x:auto;line-height:normal;font-family:Menlo,'DejaVu Sans Mono',consolas,'Courier New',monospace\">┏━━━━━━━━━━━━━━━━━━━━━━━━━━━━━━━━━┳━━━━━━━━━━━━━━━━━━━━━━━━┳━━━━━━━━━━━━━━━┓\n",
       "┃<span style=\"font-weight: bold\"> Layer (type)                    </span>┃<span style=\"font-weight: bold\"> Output Shape           </span>┃<span style=\"font-weight: bold\">       Param # </span>┃\n",
       "┡━━━━━━━━━━━━━━━━━━━━━━━━━━━━━━━━━╇━━━━━━━━━━━━━━━━━━━━━━━━╇━━━━━━━━━━━━━━━┩\n",
       "│ dense_5 (<span style=\"color: #0087ff; text-decoration-color: #0087ff\">Dense</span>)                 │ (<span style=\"color: #00d7ff; text-decoration-color: #00d7ff\">None</span>, <span style=\"color: #00af00; text-decoration-color: #00af00\">1024</span>)           │     <span style=\"color: #00af00; text-decoration-color: #00af00\">3,146,752</span> │\n",
       "├─────────────────────────────────┼────────────────────────┼───────────────┤\n",
       "│ dense_6 (<span style=\"color: #0087ff; text-decoration-color: #0087ff\">Dense</span>)                 │ (<span style=\"color: #00d7ff; text-decoration-color: #00d7ff\">None</span>, <span style=\"color: #00af00; text-decoration-color: #00af00\">1024</span>)           │     <span style=\"color: #00af00; text-decoration-color: #00af00\">1,049,600</span> │\n",
       "├─────────────────────────────────┼────────────────────────┼───────────────┤\n",
       "│ dense_7 (<span style=\"color: #0087ff; text-decoration-color: #0087ff\">Dense</span>)                 │ (<span style=\"color: #00d7ff; text-decoration-color: #00d7ff\">None</span>, <span style=\"color: #00af00; text-decoration-color: #00af00\">512</span>)            │       <span style=\"color: #00af00; text-decoration-color: #00af00\">524,800</span> │\n",
       "├─────────────────────────────────┼────────────────────────┼───────────────┤\n",
       "│ dense_8 (<span style=\"color: #0087ff; text-decoration-color: #0087ff\">Dense</span>)                 │ (<span style=\"color: #00d7ff; text-decoration-color: #00d7ff\">None</span>, <span style=\"color: #00af00; text-decoration-color: #00af00\">256</span>)            │       <span style=\"color: #00af00; text-decoration-color: #00af00\">131,328</span> │\n",
       "├─────────────────────────────────┼────────────────────────┼───────────────┤\n",
       "│ dense_9 (<span style=\"color: #0087ff; text-decoration-color: #0087ff\">Dense</span>)                 │ (<span style=\"color: #00d7ff; text-decoration-color: #00d7ff\">None</span>, <span style=\"color: #00af00; text-decoration-color: #00af00\">10</span>)             │         <span style=\"color: #00af00; text-decoration-color: #00af00\">2,570</span> │\n",
       "└─────────────────────────────────┴────────────────────────┴───────────────┘\n",
       "</pre>\n"
      ],
      "text/plain": [
       "┏━━━━━━━━━━━━━━━━━━━━━━━━━━━━━━━━━┳━━━━━━━━━━━━━━━━━━━━━━━━┳━━━━━━━━━━━━━━━┓\n",
       "┃\u001b[1m \u001b[0m\u001b[1mLayer (type)                   \u001b[0m\u001b[1m \u001b[0m┃\u001b[1m \u001b[0m\u001b[1mOutput Shape          \u001b[0m\u001b[1m \u001b[0m┃\u001b[1m \u001b[0m\u001b[1m      Param #\u001b[0m\u001b[1m \u001b[0m┃\n",
       "┡━━━━━━━━━━━━━━━━━━━━━━━━━━━━━━━━━╇━━━━━━━━━━━━━━━━━━━━━━━━╇━━━━━━━━━━━━━━━┩\n",
       "│ dense_5 (\u001b[38;5;33mDense\u001b[0m)                 │ (\u001b[38;5;45mNone\u001b[0m, \u001b[38;5;34m1024\u001b[0m)           │     \u001b[38;5;34m3,146,752\u001b[0m │\n",
       "├─────────────────────────────────┼────────────────────────┼───────────────┤\n",
       "│ dense_6 (\u001b[38;5;33mDense\u001b[0m)                 │ (\u001b[38;5;45mNone\u001b[0m, \u001b[38;5;34m1024\u001b[0m)           │     \u001b[38;5;34m1,049,600\u001b[0m │\n",
       "├─────────────────────────────────┼────────────────────────┼───────────────┤\n",
       "│ dense_7 (\u001b[38;5;33mDense\u001b[0m)                 │ (\u001b[38;5;45mNone\u001b[0m, \u001b[38;5;34m512\u001b[0m)            │       \u001b[38;5;34m524,800\u001b[0m │\n",
       "├─────────────────────────────────┼────────────────────────┼───────────────┤\n",
       "│ dense_8 (\u001b[38;5;33mDense\u001b[0m)                 │ (\u001b[38;5;45mNone\u001b[0m, \u001b[38;5;34m256\u001b[0m)            │       \u001b[38;5;34m131,328\u001b[0m │\n",
       "├─────────────────────────────────┼────────────────────────┼───────────────┤\n",
       "│ dense_9 (\u001b[38;5;33mDense\u001b[0m)                 │ (\u001b[38;5;45mNone\u001b[0m, \u001b[38;5;34m10\u001b[0m)             │         \u001b[38;5;34m2,570\u001b[0m │\n",
       "└─────────────────────────────────┴────────────────────────┴───────────────┘\n"
      ]
     },
     "metadata": {},
     "output_type": "display_data"
    },
    {
     "data": {
      "text/html": [
       "<pre style=\"white-space:pre;overflow-x:auto;line-height:normal;font-family:Menlo,'DejaVu Sans Mono',consolas,'Courier New',monospace\"><span style=\"font-weight: bold\"> Total params: </span><span style=\"color: #00af00; text-decoration-color: #00af00\">4,855,050</span> (18.52 MB)\n",
       "</pre>\n"
      ],
      "text/plain": [
       "\u001b[1m Total params: \u001b[0m\u001b[38;5;34m4,855,050\u001b[0m (18.52 MB)\n"
      ]
     },
     "metadata": {},
     "output_type": "display_data"
    },
    {
     "data": {
      "text/html": [
       "<pre style=\"white-space:pre;overflow-x:auto;line-height:normal;font-family:Menlo,'DejaVu Sans Mono',consolas,'Courier New',monospace\"><span style=\"font-weight: bold\"> Trainable params: </span><span style=\"color: #00af00; text-decoration-color: #00af00\">4,855,050</span> (18.52 MB)\n",
       "</pre>\n"
      ],
      "text/plain": [
       "\u001b[1m Trainable params: \u001b[0m\u001b[38;5;34m4,855,050\u001b[0m (18.52 MB)\n"
      ]
     },
     "metadata": {},
     "output_type": "display_data"
    },
    {
     "data": {
      "text/html": [
       "<pre style=\"white-space:pre;overflow-x:auto;line-height:normal;font-family:Menlo,'DejaVu Sans Mono',consolas,'Courier New',monospace\"><span style=\"font-weight: bold\"> Non-trainable params: </span><span style=\"color: #00af00; text-decoration-color: #00af00\">0</span> (0.00 B)\n",
       "</pre>\n"
      ],
      "text/plain": [
       "\u001b[1m Non-trainable params: \u001b[0m\u001b[38;5;34m0\u001b[0m (0.00 B)\n"
      ]
     },
     "metadata": {},
     "output_type": "display_data"
    }
   ],
   "source": [
    "num_classes = 10\n",
    "model = create_model(X_train_flattened.shape[1], num_classes)\n",
    "model.summary()"
   ]
  },
  {
   "cell_type": "code",
   "execution_count": 50,
   "id": "5AB_wnNC_BHG",
   "metadata": {
    "colab": {
     "base_uri": "https://localhost:8080/"
    },
    "executionInfo": {
     "elapsed": 13852,
     "status": "ok",
     "timestamp": 1733070485250,
     "user": {
      "displayName": "YP Wong MMU",
      "userId": "07689819114152186357"
     },
     "user_tz": -480
    },
    "id": "5AB_wnNC_BHG",
    "outputId": "fc47e56d-9d95-462b-c6eb-aafbc89550e5"
   },
   "outputs": [
    {
     "name": "stdout",
     "output_type": "stream",
     "text": [
      "Epoch 1/10\n",
      "\u001b[1m7/7\u001b[0m \u001b[32m━━━━━━━━━━━━━━━━━━━━\u001b[0m\u001b[37m\u001b[0m \u001b[1m1s\u001b[0m 41ms/step - accuracy: 0.1085 - loss: 5.9872 - val_accuracy: 0.1000 - val_loss: 2.3958\n",
      "Epoch 2/10\n",
      "\u001b[1m7/7\u001b[0m \u001b[32m━━━━━━━━━━━━━━━━━━━━\u001b[0m\u001b[37m\u001b[0m \u001b[1m0s\u001b[0m 24ms/step - accuracy: 0.1191 - loss: 2.3135 - val_accuracy: 0.1000 - val_loss: 2.3172\n",
      "Epoch 3/10\n",
      "\u001b[1m7/7\u001b[0m \u001b[32m━━━━━━━━━━━━━━━━━━━━\u001b[0m\u001b[37m\u001b[0m \u001b[1m0s\u001b[0m 73ms/step - accuracy: 0.1142 - loss: 2.2799 - val_accuracy: 0.0850 - val_loss: 2.3793\n",
      "Epoch 4/10\n",
      "\u001b[1m7/7\u001b[0m \u001b[32m━━━━━━━━━━━━━━━━━━━━\u001b[0m\u001b[37m\u001b[0m \u001b[1m0s\u001b[0m 52ms/step - accuracy: 0.1244 - loss: 2.2754 - val_accuracy: 0.1800 - val_loss: 2.2586\n",
      "Epoch 5/10\n",
      "\u001b[1m7/7\u001b[0m \u001b[32m━━━━━━━━━━━━━━━━━━━━\u001b[0m\u001b[37m\u001b[0m \u001b[1m0s\u001b[0m 35ms/step - accuracy: 0.1658 - loss: 2.2332 - val_accuracy: 0.1000 - val_loss: 2.3261\n",
      "Epoch 6/10\n",
      "\u001b[1m7/7\u001b[0m \u001b[32m━━━━━━━━━━━━━━━━━━━━\u001b[0m\u001b[37m\u001b[0m \u001b[1m1s\u001b[0m 68ms/step - accuracy: 0.1679 - loss: 2.2033 - val_accuracy: 0.1400 - val_loss: 2.3030\n",
      "Epoch 7/10\n",
      "\u001b[1m7/7\u001b[0m \u001b[32m━━━━━━━━━━━━━━━━━━━━\u001b[0m\u001b[37m\u001b[0m \u001b[1m0s\u001b[0m 61ms/step - accuracy: 0.1659 - loss: 2.2719 - val_accuracy: 0.0750 - val_loss: 3.0445\n",
      "Epoch 8/10\n",
      "\u001b[1m7/7\u001b[0m \u001b[32m━━━━━━━━━━━━━━━━━━━━\u001b[0m\u001b[37m\u001b[0m \u001b[1m0s\u001b[0m 29ms/step - accuracy: 0.1557 - loss: 2.5190 - val_accuracy: 0.1900 - val_loss: 2.1520\n",
      "Epoch 9/10\n",
      "\u001b[1m7/7\u001b[0m \u001b[32m━━━━━━━━━━━━━━━━━━━━\u001b[0m\u001b[37m\u001b[0m \u001b[1m0s\u001b[0m 30ms/step - accuracy: 0.1807 - loss: 2.1864 - val_accuracy: 0.1950 - val_loss: 2.1587\n",
      "Epoch 10/10\n",
      "\u001b[1m7/7\u001b[0m \u001b[32m━━━━━━━━━━━━━━━━━━━━\u001b[0m\u001b[37m\u001b[0m \u001b[1m0s\u001b[0m 41ms/step - accuracy: 0.2173 - loss: 2.1204 - val_accuracy: 0.1600 - val_loss: 2.2105\n"
     ]
    }
   ],
   "source": [
    "model.compile(loss = 'categorical_crossentropy',\n",
    "              optimizer = \"rmsprop\",\n",
    "              metrics = ['accuracy']\n",
    "              )\n",
    "\n",
    "batch_size = 128\n",
    "epochs = 10\n",
    "\n",
    "history = model.fit(X_train_flattened,\n",
    "                    y_train,\n",
    "                    batch_size = batch_size,\n",
    "                    epochs = epochs,\n",
    "                    verbose = 1,\n",
    "                    validation_data = (X_test_flattened, y_test)\n",
    "                    )"
   ]
  },
  {
   "cell_type": "markdown",
   "id": "AyKTVhsKNgo_",
   "metadata": {
    "id": "AyKTVhsKNgo_"
   },
   "source": [
    "## END."
   ]
  }
 ],
 "metadata": {
  "colab": {
   "provenance": []
  },
  "editor": "DataCamp Workspace",
  "kernelspec": {
   "display_name": "Python 3 (ipykernel)",
   "language": "python",
   "name": "python3"
  },
  "language_info": {
   "codemirror_mode": {
    "name": "ipython",
    "version": 3
   },
   "file_extension": ".py",
   "mimetype": "text/x-python",
   "name": "python",
   "nbconvert_exporter": "python",
   "pygments_lexer": "ipython3",
   "version": "3.11.7"
  }
 },
 "nbformat": 4,
 "nbformat_minor": 5
}
